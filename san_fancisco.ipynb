{
  "nbformat": 4,
  "nbformat_minor": 0,
  "metadata": {
    "colab": {
      "provenance": [],
      "mount_file_id": "1T6ykIrR6TiuZpHew4HrGSPJxjA4Ntm2Q",
      "authorship_tag": "ABX9TyNbdU+Szyyn4iUXvCnAAOT3",
      "include_colab_link": true
    },
    "kernelspec": {
      "name": "python3",
      "display_name": "Python 3"
    },
    "language_info": {
      "name": "python"
    }
  },
  "cells": [
    {
      "cell_type": "markdown",
      "metadata": {
        "id": "view-in-github",
        "colab_type": "text"
      },
      "source": [
        "<a href=\"https://colab.research.google.com/github/Suraba03/ml_san_francisco_permits/blob/main/san_fancisco.ipynb\" target=\"_parent\"><img src=\"https://colab.research.google.com/assets/colab-badge.svg\" alt=\"Open In Colab\"/></a>"
      ]
    },
    {
      "cell_type": "markdown",
      "source": [
        "# import data and first glance"
      ],
      "metadata": {
        "id": "qBdpYYYieqjK"
      }
    },
    {
      "cell_type": "code",
      "execution_count": 16,
      "metadata": {
        "id": "81vxBG1lc7fT"
      },
      "outputs": [],
      "source": [
        "import pandas as pd\n",
        "import numpy as np\n",
        "from matplotlib import pyplot as plt\n",
        "import seaborn as sns"
      ]
    },
    {
      "cell_type": "code",
      "source": [
        "!ls"
      ],
      "metadata": {
        "colab": {
          "base_uri": "https://localhost:8080/"
        },
        "id": "63OCYrHL6B7S",
        "outputId": "04d23401-d900-4f2b-9390-e66457a56939"
      },
      "execution_count": 26,
      "outputs": [
        {
          "output_type": "stream",
          "name": "stdout",
          "text": [
            "Building_Permits.csv  drive  sample_data\n"
          ]
        }
      ]
    },
    {
      "cell_type": "code",
      "source": [
        "df = pd.read_csv('/content/drive/MyDrive/Colab Notebooks/san_francisco/Building_Permits.csv')"
      ],
      "metadata": {
        "colab": {
          "base_uri": "https://localhost:8080/"
        },
        "id": "EehQzGkxezXj",
        "outputId": "859e1b5e-6c1a-4271-fea0-188fabae88c5"
      },
      "execution_count": 30,
      "outputs": [
        {
          "output_type": "stream",
          "name": "stderr",
          "text": [
            "<ipython-input-30-5a9255161ba3>:1: DtypeWarning: Columns (22,32) have mixed types. Specify dtype option on import or set low_memory=False.\n",
            "  df = pd.read_csv('/content/drive/MyDrive/Colab Notebooks/san_francisco/Building_Permits.csv')\n"
          ]
        }
      ]
    },
    {
      "cell_type": "code",
      "source": [
        "pd.set_option('display.max_columns', None)"
      ],
      "metadata": {
        "id": "cVeeNp-Uh7v8"
      },
      "execution_count": 3,
      "outputs": []
    },
    {
      "cell_type": "code",
      "source": [
        "df.head()"
      ],
      "metadata": {
        "colab": {
          "base_uri": "https://localhost:8080/",
          "height": 478
        },
        "id": "xtFwJOqrhJsb",
        "outputId": "9dfa6f8c-ebf6-4b5d-9703-43c7052b18d1"
      },
      "execution_count": 31,
      "outputs": [
        {
          "output_type": "execute_result",
          "data": {
            "text/plain": [
              "  Permit Number  Permit Type            Permit Type Definition  \\\n",
              "0  201505065519            4                      sign - erect   \n",
              "1  201604195146            4                      sign - erect   \n",
              "2  201605278609            3  additions alterations or repairs   \n",
              "3  201611072166            8            otc alterations permit   \n",
              "4  201611283529            6                       demolitions   \n",
              "\n",
              "  Permit Creation Date Block  Lot  Street Number Street Number Suffix  \\\n",
              "0           05/06/2015  0326  023            140                  NaN   \n",
              "1           04/19/2016  0306  007            440                  NaN   \n",
              "2           05/27/2016  0595  203           1647                  NaN   \n",
              "3           11/07/2016  0156  011           1230                  NaN   \n",
              "4           11/28/2016  0342  001            950                  NaN   \n",
              "\n",
              "  Street Name Street Suffix  Unit Unit Suffix  \\\n",
              "0       Ellis            St   NaN         NaN   \n",
              "1       Geary            St   0.0         NaN   \n",
              "2     Pacific            Av   NaN         NaN   \n",
              "3     Pacific            Av   0.0         NaN   \n",
              "4      Market            St   NaN         NaN   \n",
              "\n",
              "                                         Description Current Status  \\\n",
              "0  ground fl facade: to erect illuminated, electr...        expired   \n",
              "1            remove (e) awning and associated signs.         issued   \n",
              "2                    installation of separating wall      withdrawn   \n",
              "3           repair dryrot & stucco at front of bldg.       complete   \n",
              "4  demolish retail/office/commercial 3-story buil...         issued   \n",
              "\n",
              "  Current Status Date  Filed Date Issued Date Completed Date  \\\n",
              "0          12/21/2017  05/06/2015  11/09/2015            NaN   \n",
              "1          08/03/2017  04/19/2016  08/03/2017            NaN   \n",
              "2          09/26/2017  05/27/2016         NaN            NaN   \n",
              "3          07/24/2017  11/07/2016  07/18/2017     07/24/2017   \n",
              "4          12/01/2017  11/28/2016  12/01/2017            NaN   \n",
              "\n",
              "  First Construction Document Date Structural Notification  \\\n",
              "0                       11/09/2015                     NaN   \n",
              "1                       08/03/2017                     NaN   \n",
              "2                              NaN                     NaN   \n",
              "3                       07/18/2017                     NaN   \n",
              "4                       11/20/2017                     NaN   \n",
              "\n",
              "   Number of Existing Stories  Number of Proposed Stories  \\\n",
              "0                         6.0                         NaN   \n",
              "1                         7.0                         NaN   \n",
              "2                         6.0                         6.0   \n",
              "3                         2.0                         2.0   \n",
              "4                         3.0                         NaN   \n",
              "\n",
              "  Voluntary Soft-Story Retrofit Fire Only Permit Permit Expiration Date  \\\n",
              "0                           NaN              NaN             11/03/2016   \n",
              "1                           NaN              NaN             12/03/2017   \n",
              "2                           NaN              NaN                    NaN   \n",
              "3                           NaN              NaN             07/13/2018   \n",
              "4                           NaN              NaN             12/01/2018   \n",
              "\n",
              "   Estimated Cost  Revised Cost         Existing Use  Existing Units  \\\n",
              "0          4000.0        4000.0  tourist hotel/motel           143.0   \n",
              "1             1.0         500.0  tourist hotel/motel             NaN   \n",
              "2         20000.0           NaN         retail sales            39.0   \n",
              "3          2000.0        2000.0    1 family dwelling             1.0   \n",
              "4        100000.0      100000.0         retail sales             NaN   \n",
              "\n",
              "        Proposed Use  Proposed Units  Plansets TIDF Compliance  \\\n",
              "0                NaN             NaN       2.0             NaN   \n",
              "1                NaN             NaN       2.0             NaN   \n",
              "2       retail sales            39.0       2.0             NaN   \n",
              "3  1 family dwelling             1.0       2.0             NaN   \n",
              "4                NaN             NaN       2.0             NaN   \n",
              "\n",
              "   Existing Construction Type Existing Construction Type Description  \\\n",
              "0                         3.0                          constr type 3   \n",
              "1                         3.0                          constr type 3   \n",
              "2                         1.0                          constr type 1   \n",
              "3                         5.0                         wood frame (5)   \n",
              "4                         3.0                          constr type 3   \n",
              "\n",
              "   Proposed Construction Type Proposed Construction Type Description  \\\n",
              "0                         NaN                                    NaN   \n",
              "1                         NaN                                    NaN   \n",
              "2                         1.0                          constr type 1   \n",
              "3                         5.0                         wood frame (5)   \n",
              "4                         NaN                                    NaN   \n",
              "\n",
              "  Site Permit  Supervisor District Neighborhoods - Analysis Boundaries  \\\n",
              "0         NaN                  3.0                          Tenderloin   \n",
              "1         NaN                  3.0                          Tenderloin   \n",
              "2         NaN                  3.0                        Russian Hill   \n",
              "3         NaN                  3.0                            Nob Hill   \n",
              "4         NaN                  6.0                          Tenderloin   \n",
              "\n",
              "   Zipcode                                   Location      Record ID  \n",
              "0  94102.0  (37.785719256680785, -122.40852313194863)  1380611233945  \n",
              "1  94102.0   (37.78733980600732, -122.41063199757738)  1420164406718  \n",
              "2  94109.0    (37.7946573324287, -122.42232562979227)  1424856504716  \n",
              "3  94109.0   (37.79595867909168, -122.41557405519474)  1443574295566  \n",
              "4  94102.0   (37.78315261897309, -122.40950883997789)   144548169992  "
            ],
            "text/html": [
              "\n",
              "  <div id=\"df-ec5ccc0f-064a-4f29-ba75-d8b689e478c0\">\n",
              "    <div class=\"colab-df-container\">\n",
              "      <div>\n",
              "<style scoped>\n",
              "    .dataframe tbody tr th:only-of-type {\n",
              "        vertical-align: middle;\n",
              "    }\n",
              "\n",
              "    .dataframe tbody tr th {\n",
              "        vertical-align: top;\n",
              "    }\n",
              "\n",
              "    .dataframe thead th {\n",
              "        text-align: right;\n",
              "    }\n",
              "</style>\n",
              "<table border=\"1\" class=\"dataframe\">\n",
              "  <thead>\n",
              "    <tr style=\"text-align: right;\">\n",
              "      <th></th>\n",
              "      <th>Permit Number</th>\n",
              "      <th>Permit Type</th>\n",
              "      <th>Permit Type Definition</th>\n",
              "      <th>Permit Creation Date</th>\n",
              "      <th>Block</th>\n",
              "      <th>Lot</th>\n",
              "      <th>Street Number</th>\n",
              "      <th>Street Number Suffix</th>\n",
              "      <th>Street Name</th>\n",
              "      <th>Street Suffix</th>\n",
              "      <th>Unit</th>\n",
              "      <th>Unit Suffix</th>\n",
              "      <th>Description</th>\n",
              "      <th>Current Status</th>\n",
              "      <th>Current Status Date</th>\n",
              "      <th>Filed Date</th>\n",
              "      <th>Issued Date</th>\n",
              "      <th>Completed Date</th>\n",
              "      <th>First Construction Document Date</th>\n",
              "      <th>Structural Notification</th>\n",
              "      <th>Number of Existing Stories</th>\n",
              "      <th>Number of Proposed Stories</th>\n",
              "      <th>Voluntary Soft-Story Retrofit</th>\n",
              "      <th>Fire Only Permit</th>\n",
              "      <th>Permit Expiration Date</th>\n",
              "      <th>Estimated Cost</th>\n",
              "      <th>Revised Cost</th>\n",
              "      <th>Existing Use</th>\n",
              "      <th>Existing Units</th>\n",
              "      <th>Proposed Use</th>\n",
              "      <th>Proposed Units</th>\n",
              "      <th>Plansets</th>\n",
              "      <th>TIDF Compliance</th>\n",
              "      <th>Existing Construction Type</th>\n",
              "      <th>Existing Construction Type Description</th>\n",
              "      <th>Proposed Construction Type</th>\n",
              "      <th>Proposed Construction Type Description</th>\n",
              "      <th>Site Permit</th>\n",
              "      <th>Supervisor District</th>\n",
              "      <th>Neighborhoods - Analysis Boundaries</th>\n",
              "      <th>Zipcode</th>\n",
              "      <th>Location</th>\n",
              "      <th>Record ID</th>\n",
              "    </tr>\n",
              "  </thead>\n",
              "  <tbody>\n",
              "    <tr>\n",
              "      <th>0</th>\n",
              "      <td>201505065519</td>\n",
              "      <td>4</td>\n",
              "      <td>sign - erect</td>\n",
              "      <td>05/06/2015</td>\n",
              "      <td>0326</td>\n",
              "      <td>023</td>\n",
              "      <td>140</td>\n",
              "      <td>NaN</td>\n",
              "      <td>Ellis</td>\n",
              "      <td>St</td>\n",
              "      <td>NaN</td>\n",
              "      <td>NaN</td>\n",
              "      <td>ground fl facade: to erect illuminated, electr...</td>\n",
              "      <td>expired</td>\n",
              "      <td>12/21/2017</td>\n",
              "      <td>05/06/2015</td>\n",
              "      <td>11/09/2015</td>\n",
              "      <td>NaN</td>\n",
              "      <td>11/09/2015</td>\n",
              "      <td>NaN</td>\n",
              "      <td>6.0</td>\n",
              "      <td>NaN</td>\n",
              "      <td>NaN</td>\n",
              "      <td>NaN</td>\n",
              "      <td>11/03/2016</td>\n",
              "      <td>4000.0</td>\n",
              "      <td>4000.0</td>\n",
              "      <td>tourist hotel/motel</td>\n",
              "      <td>143.0</td>\n",
              "      <td>NaN</td>\n",
              "      <td>NaN</td>\n",
              "      <td>2.0</td>\n",
              "      <td>NaN</td>\n",
              "      <td>3.0</td>\n",
              "      <td>constr type 3</td>\n",
              "      <td>NaN</td>\n",
              "      <td>NaN</td>\n",
              "      <td>NaN</td>\n",
              "      <td>3.0</td>\n",
              "      <td>Tenderloin</td>\n",
              "      <td>94102.0</td>\n",
              "      <td>(37.785719256680785, -122.40852313194863)</td>\n",
              "      <td>1380611233945</td>\n",
              "    </tr>\n",
              "    <tr>\n",
              "      <th>1</th>\n",
              "      <td>201604195146</td>\n",
              "      <td>4</td>\n",
              "      <td>sign - erect</td>\n",
              "      <td>04/19/2016</td>\n",
              "      <td>0306</td>\n",
              "      <td>007</td>\n",
              "      <td>440</td>\n",
              "      <td>NaN</td>\n",
              "      <td>Geary</td>\n",
              "      <td>St</td>\n",
              "      <td>0.0</td>\n",
              "      <td>NaN</td>\n",
              "      <td>remove (e) awning and associated signs.</td>\n",
              "      <td>issued</td>\n",
              "      <td>08/03/2017</td>\n",
              "      <td>04/19/2016</td>\n",
              "      <td>08/03/2017</td>\n",
              "      <td>NaN</td>\n",
              "      <td>08/03/2017</td>\n",
              "      <td>NaN</td>\n",
              "      <td>7.0</td>\n",
              "      <td>NaN</td>\n",
              "      <td>NaN</td>\n",
              "      <td>NaN</td>\n",
              "      <td>12/03/2017</td>\n",
              "      <td>1.0</td>\n",
              "      <td>500.0</td>\n",
              "      <td>tourist hotel/motel</td>\n",
              "      <td>NaN</td>\n",
              "      <td>NaN</td>\n",
              "      <td>NaN</td>\n",
              "      <td>2.0</td>\n",
              "      <td>NaN</td>\n",
              "      <td>3.0</td>\n",
              "      <td>constr type 3</td>\n",
              "      <td>NaN</td>\n",
              "      <td>NaN</td>\n",
              "      <td>NaN</td>\n",
              "      <td>3.0</td>\n",
              "      <td>Tenderloin</td>\n",
              "      <td>94102.0</td>\n",
              "      <td>(37.78733980600732, -122.41063199757738)</td>\n",
              "      <td>1420164406718</td>\n",
              "    </tr>\n",
              "    <tr>\n",
              "      <th>2</th>\n",
              "      <td>201605278609</td>\n",
              "      <td>3</td>\n",
              "      <td>additions alterations or repairs</td>\n",
              "      <td>05/27/2016</td>\n",
              "      <td>0595</td>\n",
              "      <td>203</td>\n",
              "      <td>1647</td>\n",
              "      <td>NaN</td>\n",
              "      <td>Pacific</td>\n",
              "      <td>Av</td>\n",
              "      <td>NaN</td>\n",
              "      <td>NaN</td>\n",
              "      <td>installation of separating wall</td>\n",
              "      <td>withdrawn</td>\n",
              "      <td>09/26/2017</td>\n",
              "      <td>05/27/2016</td>\n",
              "      <td>NaN</td>\n",
              "      <td>NaN</td>\n",
              "      <td>NaN</td>\n",
              "      <td>NaN</td>\n",
              "      <td>6.0</td>\n",
              "      <td>6.0</td>\n",
              "      <td>NaN</td>\n",
              "      <td>NaN</td>\n",
              "      <td>NaN</td>\n",
              "      <td>20000.0</td>\n",
              "      <td>NaN</td>\n",
              "      <td>retail sales</td>\n",
              "      <td>39.0</td>\n",
              "      <td>retail sales</td>\n",
              "      <td>39.0</td>\n",
              "      <td>2.0</td>\n",
              "      <td>NaN</td>\n",
              "      <td>1.0</td>\n",
              "      <td>constr type 1</td>\n",
              "      <td>1.0</td>\n",
              "      <td>constr type 1</td>\n",
              "      <td>NaN</td>\n",
              "      <td>3.0</td>\n",
              "      <td>Russian Hill</td>\n",
              "      <td>94109.0</td>\n",
              "      <td>(37.7946573324287, -122.42232562979227)</td>\n",
              "      <td>1424856504716</td>\n",
              "    </tr>\n",
              "    <tr>\n",
              "      <th>3</th>\n",
              "      <td>201611072166</td>\n",
              "      <td>8</td>\n",
              "      <td>otc alterations permit</td>\n",
              "      <td>11/07/2016</td>\n",
              "      <td>0156</td>\n",
              "      <td>011</td>\n",
              "      <td>1230</td>\n",
              "      <td>NaN</td>\n",
              "      <td>Pacific</td>\n",
              "      <td>Av</td>\n",
              "      <td>0.0</td>\n",
              "      <td>NaN</td>\n",
              "      <td>repair dryrot &amp; stucco at front of bldg.</td>\n",
              "      <td>complete</td>\n",
              "      <td>07/24/2017</td>\n",
              "      <td>11/07/2016</td>\n",
              "      <td>07/18/2017</td>\n",
              "      <td>07/24/2017</td>\n",
              "      <td>07/18/2017</td>\n",
              "      <td>NaN</td>\n",
              "      <td>2.0</td>\n",
              "      <td>2.0</td>\n",
              "      <td>NaN</td>\n",
              "      <td>NaN</td>\n",
              "      <td>07/13/2018</td>\n",
              "      <td>2000.0</td>\n",
              "      <td>2000.0</td>\n",
              "      <td>1 family dwelling</td>\n",
              "      <td>1.0</td>\n",
              "      <td>1 family dwelling</td>\n",
              "      <td>1.0</td>\n",
              "      <td>2.0</td>\n",
              "      <td>NaN</td>\n",
              "      <td>5.0</td>\n",
              "      <td>wood frame (5)</td>\n",
              "      <td>5.0</td>\n",
              "      <td>wood frame (5)</td>\n",
              "      <td>NaN</td>\n",
              "      <td>3.0</td>\n",
              "      <td>Nob Hill</td>\n",
              "      <td>94109.0</td>\n",
              "      <td>(37.79595867909168, -122.41557405519474)</td>\n",
              "      <td>1443574295566</td>\n",
              "    </tr>\n",
              "    <tr>\n",
              "      <th>4</th>\n",
              "      <td>201611283529</td>\n",
              "      <td>6</td>\n",
              "      <td>demolitions</td>\n",
              "      <td>11/28/2016</td>\n",
              "      <td>0342</td>\n",
              "      <td>001</td>\n",
              "      <td>950</td>\n",
              "      <td>NaN</td>\n",
              "      <td>Market</td>\n",
              "      <td>St</td>\n",
              "      <td>NaN</td>\n",
              "      <td>NaN</td>\n",
              "      <td>demolish retail/office/commercial 3-story buil...</td>\n",
              "      <td>issued</td>\n",
              "      <td>12/01/2017</td>\n",
              "      <td>11/28/2016</td>\n",
              "      <td>12/01/2017</td>\n",
              "      <td>NaN</td>\n",
              "      <td>11/20/2017</td>\n",
              "      <td>NaN</td>\n",
              "      <td>3.0</td>\n",
              "      <td>NaN</td>\n",
              "      <td>NaN</td>\n",
              "      <td>NaN</td>\n",
              "      <td>12/01/2018</td>\n",
              "      <td>100000.0</td>\n",
              "      <td>100000.0</td>\n",
              "      <td>retail sales</td>\n",
              "      <td>NaN</td>\n",
              "      <td>NaN</td>\n",
              "      <td>NaN</td>\n",
              "      <td>2.0</td>\n",
              "      <td>NaN</td>\n",
              "      <td>3.0</td>\n",
              "      <td>constr type 3</td>\n",
              "      <td>NaN</td>\n",
              "      <td>NaN</td>\n",
              "      <td>NaN</td>\n",
              "      <td>6.0</td>\n",
              "      <td>Tenderloin</td>\n",
              "      <td>94102.0</td>\n",
              "      <td>(37.78315261897309, -122.40950883997789)</td>\n",
              "      <td>144548169992</td>\n",
              "    </tr>\n",
              "  </tbody>\n",
              "</table>\n",
              "</div>\n",
              "      <button class=\"colab-df-convert\" onclick=\"convertToInteractive('df-ec5ccc0f-064a-4f29-ba75-d8b689e478c0')\"\n",
              "              title=\"Convert this dataframe to an interactive table.\"\n",
              "              style=\"display:none;\">\n",
              "        \n",
              "  <svg xmlns=\"http://www.w3.org/2000/svg\" height=\"24px\"viewBox=\"0 0 24 24\"\n",
              "       width=\"24px\">\n",
              "    <path d=\"M0 0h24v24H0V0z\" fill=\"none\"/>\n",
              "    <path d=\"M18.56 5.44l.94 2.06.94-2.06 2.06-.94-2.06-.94-.94-2.06-.94 2.06-2.06.94zm-11 1L8.5 8.5l.94-2.06 2.06-.94-2.06-.94L8.5 2.5l-.94 2.06-2.06.94zm10 10l.94 2.06.94-2.06 2.06-.94-2.06-.94-.94-2.06-.94 2.06-2.06.94z\"/><path d=\"M17.41 7.96l-1.37-1.37c-.4-.4-.92-.59-1.43-.59-.52 0-1.04.2-1.43.59L10.3 9.45l-7.72 7.72c-.78.78-.78 2.05 0 2.83L4 21.41c.39.39.9.59 1.41.59.51 0 1.02-.2 1.41-.59l7.78-7.78 2.81-2.81c.8-.78.8-2.07 0-2.86zM5.41 20L4 18.59l7.72-7.72 1.47 1.35L5.41 20z\"/>\n",
              "  </svg>\n",
              "      </button>\n",
              "      \n",
              "  <style>\n",
              "    .colab-df-container {\n",
              "      display:flex;\n",
              "      flex-wrap:wrap;\n",
              "      gap: 12px;\n",
              "    }\n",
              "\n",
              "    .colab-df-convert {\n",
              "      background-color: #E8F0FE;\n",
              "      border: none;\n",
              "      border-radius: 50%;\n",
              "      cursor: pointer;\n",
              "      display: none;\n",
              "      fill: #1967D2;\n",
              "      height: 32px;\n",
              "      padding: 0 0 0 0;\n",
              "      width: 32px;\n",
              "    }\n",
              "\n",
              "    .colab-df-convert:hover {\n",
              "      background-color: #E2EBFA;\n",
              "      box-shadow: 0px 1px 2px rgba(60, 64, 67, 0.3), 0px 1px 3px 1px rgba(60, 64, 67, 0.15);\n",
              "      fill: #174EA6;\n",
              "    }\n",
              "\n",
              "    [theme=dark] .colab-df-convert {\n",
              "      background-color: #3B4455;\n",
              "      fill: #D2E3FC;\n",
              "    }\n",
              "\n",
              "    [theme=dark] .colab-df-convert:hover {\n",
              "      background-color: #434B5C;\n",
              "      box-shadow: 0px 1px 3px 1px rgba(0, 0, 0, 0.15);\n",
              "      filter: drop-shadow(0px 1px 2px rgba(0, 0, 0, 0.3));\n",
              "      fill: #FFFFFF;\n",
              "    }\n",
              "  </style>\n",
              "\n",
              "      <script>\n",
              "        const buttonEl =\n",
              "          document.querySelector('#df-ec5ccc0f-064a-4f29-ba75-d8b689e478c0 button.colab-df-convert');\n",
              "        buttonEl.style.display =\n",
              "          google.colab.kernel.accessAllowed ? 'block' : 'none';\n",
              "\n",
              "        async function convertToInteractive(key) {\n",
              "          const element = document.querySelector('#df-ec5ccc0f-064a-4f29-ba75-d8b689e478c0');\n",
              "          const dataTable =\n",
              "            await google.colab.kernel.invokeFunction('convertToInteractive',\n",
              "                                                     [key], {});\n",
              "          if (!dataTable) return;\n",
              "\n",
              "          const docLinkHtml = 'Like what you see? Visit the ' +\n",
              "            '<a target=\"_blank\" href=https://colab.research.google.com/notebooks/data_table.ipynb>data table notebook</a>'\n",
              "            + ' to learn more about interactive tables.';\n",
              "          element.innerHTML = '';\n",
              "          dataTable['output_type'] = 'display_data';\n",
              "          await google.colab.output.renderOutput(dataTable, element);\n",
              "          const docLink = document.createElement('div');\n",
              "          docLink.innerHTML = docLinkHtml;\n",
              "          element.appendChild(docLink);\n",
              "        }\n",
              "      </script>\n",
              "    </div>\n",
              "  </div>\n",
              "  "
            ]
          },
          "metadata": {},
          "execution_count": 31
        }
      ]
    },
    {
      "cell_type": "code",
      "source": [
        "df.shape"
      ],
      "metadata": {
        "colab": {
          "base_uri": "https://localhost:8080/"
        },
        "id": "s8VomZvEnquS",
        "outputId": "c402564b-7c18-4544-923d-bb57c28018ba"
      },
      "execution_count": 32,
      "outputs": [
        {
          "output_type": "execute_result",
          "data": {
            "text/plain": [
              "(198900, 43)"
            ]
          },
          "metadata": {},
          "execution_count": 32
        }
      ]
    },
    {
      "cell_type": "markdown",
      "source": [
        "# preprocessing"
      ],
      "metadata": {
        "id": "OQiYDagenbl7"
      }
    },
    {
      "cell_type": "markdown",
      "source": [
        "let's remove white spaces from columns names"
      ],
      "metadata": {
        "id": "h5Hcd7VynOYY"
      }
    },
    {
      "cell_type": "code",
      "source": [
        "df = df.rename(lambda name: name.replace(\" \", \"\"), axis='columns')"
      ],
      "metadata": {
        "id": "4iLQ_I8um0Yn"
      },
      "execution_count": 33,
      "outputs": []
    },
    {
      "cell_type": "code",
      "source": [
        "df.info()"
      ],
      "metadata": {
        "colab": {
          "base_uri": "https://localhost:8080/"
        },
        "id": "D1EKQtAdezat",
        "outputId": "c8b5203d-ed26-40c8-e466-017fd8f6670e"
      },
      "execution_count": 34,
      "outputs": [
        {
          "output_type": "stream",
          "name": "stdout",
          "text": [
            "<class 'pandas.core.frame.DataFrame'>\n",
            "RangeIndex: 198900 entries, 0 to 198899\n",
            "Data columns (total 43 columns):\n",
            " #   Column                               Non-Null Count   Dtype  \n",
            "---  ------                               --------------   -----  \n",
            " 0   PermitNumber                         198900 non-null  object \n",
            " 1   PermitType                           198900 non-null  int64  \n",
            " 2   PermitTypeDefinition                 198900 non-null  object \n",
            " 3   PermitCreationDate                   198900 non-null  object \n",
            " 4   Block                                198900 non-null  object \n",
            " 5   Lot                                  198900 non-null  object \n",
            " 6   StreetNumber                         198900 non-null  int64  \n",
            " 7   StreetNumberSuffix                   2216 non-null    object \n",
            " 8   StreetName                           198900 non-null  object \n",
            " 9   StreetSuffix                         196132 non-null  object \n",
            " 10  Unit                                 29479 non-null   float64\n",
            " 11  UnitSuffix                           1961 non-null    object \n",
            " 12  Description                          198610 non-null  object \n",
            " 13  CurrentStatus                        198900 non-null  object \n",
            " 14  CurrentStatusDate                    198900 non-null  object \n",
            " 15  FiledDate                            198900 non-null  object \n",
            " 16  IssuedDate                           183960 non-null  object \n",
            " 17  CompletedDate                        97191 non-null   object \n",
            " 18  FirstConstructionDocumentDate        183954 non-null  object \n",
            " 19  StructuralNotification               6922 non-null    object \n",
            " 20  NumberofExistingStories              156116 non-null  float64\n",
            " 21  NumberofProposedStories              156032 non-null  float64\n",
            " 22  VoluntarySoft-StoryRetrofit          35 non-null      object \n",
            " 23  FireOnlyPermit                       18827 non-null   object \n",
            " 24  PermitExpirationDate                 147020 non-null  object \n",
            " 25  EstimatedCost                        160834 non-null  float64\n",
            " 26  RevisedCost                          192834 non-null  float64\n",
            " 27  ExistingUse                          157786 non-null  object \n",
            " 28  ExistingUnits                        147362 non-null  float64\n",
            " 29  ProposedUse                          156461 non-null  object \n",
            " 30  ProposedUnits                        147989 non-null  float64\n",
            " 31  Plansets                             161591 non-null  float64\n",
            " 32  TIDFCompliance                       2 non-null       object \n",
            " 33  ExistingConstructionType             155534 non-null  float64\n",
            " 34  ExistingConstructionTypeDescription  155534 non-null  object \n",
            " 35  ProposedConstructionType             155738 non-null  float64\n",
            " 36  ProposedConstructionTypeDescription  155738 non-null  object \n",
            " 37  SitePermit                           5359 non-null    object \n",
            " 38  SupervisorDistrict                   197183 non-null  float64\n",
            " 39  Neighborhoods-AnalysisBoundaries     197175 non-null  object \n",
            " 40  Zipcode                              197184 non-null  float64\n",
            " 41  Location                             197200 non-null  object \n",
            " 42  RecordID                             198900 non-null  int64  \n",
            "dtypes: float64(12), int64(3), object(28)\n",
            "memory usage: 65.3+ MB\n"
          ]
        }
      ]
    },
    {
      "cell_type": "markdown",
      "source": [
        "let's split features list in two: numerical and categorical"
      ],
      "metadata": {
        "id": "6O4ucyGmoUX1"
      }
    },
    {
      "cell_type": "code",
      "source": [
        "num_cols = [col for col in df.columns if \"int\" in str(df[col].dtype) or \"float\" in str(df[col].dtype)]\n",
        "cat_cols = [col for col in df.columns if \"object\" == str(df[col].dtype) and col != \"CurrentStatus\"]\n",
        "print(num_cols)\n",
        "print(cat_cols)"
      ],
      "metadata": {
        "id": "QG8ODFikezd2",
        "colab": {
          "base_uri": "https://localhost:8080/"
        },
        "outputId": "2dc5f7f6-cc81-4a3d-e7fb-5c7b030f314f"
      },
      "execution_count": 48,
      "outputs": [
        {
          "output_type": "stream",
          "name": "stdout",
          "text": [
            "['PermitType', 'StreetNumber', 'Unit', 'NumberofExistingStories', 'NumberofProposedStories', 'EstimatedCost', 'RevisedCost', 'ExistingUnits', 'ProposedUnits', 'Plansets', 'ExistingConstructionType', 'ProposedConstructionType', 'SupervisorDistrict', 'Zipcode', 'RecordID']\n",
            "['PermitNumber', 'PermitTypeDefinition', 'PermitCreationDate', 'Block', 'Lot', 'StreetNumberSuffix', 'StreetName', 'StreetSuffix', 'UnitSuffix', 'Description', 'CurrentStatusDate', 'FiledDate', 'IssuedDate', 'CompletedDate', 'FirstConstructionDocumentDate', 'StructuralNotification', 'VoluntarySoft-StoryRetrofit', 'FireOnlyPermit', 'PermitExpirationDate', 'ExistingUse', 'ProposedUse', 'TIDFCompliance', 'ExistingConstructionTypeDescription', 'ProposedConstructionTypeDescription', 'SitePermit', 'Neighborhoods-AnalysisBoundaries', 'Location']\n"
          ]
        }
      ]
    },
    {
      "cell_type": "code",
      "source": [
        "target = \"CurrentStatus\""
      ],
      "metadata": {
        "id": "tbVzJIKr0PA0"
      },
      "execution_count": 49,
      "outputs": []
    },
    {
      "cell_type": "code",
      "source": [
        "import seaborn as sns"
      ],
      "metadata": {
        "id": "0TcKkN450cGE"
      },
      "execution_count": 37,
      "outputs": []
    },
    {
      "cell_type": "code",
      "source": [
        "sns.set(rc={'figure.figsize':(10,8)})\n",
        "sns.countplot(x=target, data=df);"
      ],
      "metadata": {
        "colab": {
          "base_uri": "https://localhost:8080/",
          "height": 502
        },
        "id": "97snDF2z1p6l",
        "outputId": "fcd18cb9-4612-4b1e-9414-3513a669d7b8"
      },
      "execution_count": 52,
      "outputs": [
        {
          "output_type": "display_data",
          "data": {
            "text/plain": [
              "<Figure size 720x576 with 1 Axes>"
            ],
            "image/png": "[encoded data removed]"
          },
          "metadata": {}
        }
      ]
    },
    {
      "cell_type": "code",
      "source": [
        "df[target].value_counts() / df.shape[0]"
      ],
      "metadata": {
        "colab": {
          "base_uri": "https://localhost:8080/"
        },
        "id": "rnO9bG6g2KnX",
        "outputId": "c2d30f15-eb49-48af-a1bc-e48ee839e1e9"
      },
      "execution_count": 47,
      "outputs": [
        {
          "output_type": "execute_result",
          "data": {
            "text/plain": [
              "8    0.899165\n",
              "3    0.073720\n",
              "4    0.014540\n",
              "2    0.004776\n",
              "6    0.003017\n",
              "7    0.002569\n",
              "1    0.001755\n",
              "5    0.000458\n",
              "Name: PermitType, dtype: float64"
            ]
          },
          "metadata": {},
          "execution_count": 47
        }
      ]
    },
    {
      "cell_type": "code",
      "source": [],
      "metadata": {
        "id": "vyF570_b1p8v"
      },
      "execution_count": 39,
      "outputs": []
    },
    {
      "cell_type": "code",
      "source": [],
      "metadata": {
        "id": "3EjZZXWP1p_g"
      },
      "execution_count": 39,
      "outputs": []
    },
    {
      "cell_type": "markdown",
      "source": [
        "just a sanity check"
      ],
      "metadata": {
        "id": "GOyCQzTVqTCl"
      }
    },
    {
      "cell_type": "code",
      "source": [
        "set(num_cols+cat_cols + [target]) == set(df.columns)"
      ],
      "metadata": {
        "colab": {
          "base_uri": "https://localhost:8080/"
        },
        "id": "_6WlvBtIqCiA",
        "outputId": "aa9074bf-17fa-4043-84c4-d9a2d400866d"
      },
      "execution_count": 51,
      "outputs": [
        {
          "output_type": "execute_result",
          "data": {
            "text/plain": [
              "True"
            ]
          },
          "metadata": {},
          "execution_count": 51
        }
      ]
    },
    {
      "cell_type": "markdown",
      "source": [
        "## deal with missing values"
      ],
      "metadata": {
        "id": "l8TbbCLUoDuK"
      }
    },
    {
      "cell_type": "code",
      "source": [
        "for i in df.columns:\n",
        "    print(i)"
      ],
      "metadata": {
        "id": "c1xb7hkqezgN",
        "colab": {
          "base_uri": "https://localhost:8080/"
        },
        "outputId": "dccf8ec4-cd5d-4e24-f321-d105f6fe2329"
      },
      "execution_count": 41,
      "outputs": [
        {
          "output_type": "stream",
          "name": "stdout",
          "text": [
            "PermitNumber\n",
            "PermitType\n",
            "PermitTypeDefinition\n",
            "PermitCreationDate\n",
            "Block\n",
            "Lot\n",
            "StreetNumber\n",
            "StreetNumberSuffix\n",
            "StreetName\n",
            "StreetSuffix\n",
            "Unit\n",
            "UnitSuffix\n",
            "Description\n",
            "CurrentStatus\n",
            "CurrentStatusDate\n",
            "FiledDate\n",
            "IssuedDate\n",
            "CompletedDate\n",
            "FirstConstructionDocumentDate\n",
            "StructuralNotification\n",
            "NumberofExistingStories\n",
            "NumberofProposedStories\n",
            "VoluntarySoft-StoryRetrofit\n",
            "FireOnlyPermit\n",
            "PermitExpirationDate\n",
            "EstimatedCost\n",
            "RevisedCost\n",
            "ExistingUse\n",
            "ExistingUnits\n",
            "ProposedUse\n",
            "ProposedUnits\n",
            "Plansets\n",
            "TIDFCompliance\n",
            "ExistingConstructionType\n",
            "ExistingConstructionTypeDescription\n",
            "ProposedConstructionType\n",
            "ProposedConstructionTypeDescription\n",
            "SitePermit\n",
            "SupervisorDistrict\n",
            "Neighborhoods-AnalysisBoundaries\n",
            "Zipcode\n",
            "Location\n",
            "RecordID\n"
          ]
        }
      ]
    },
    {
      "cell_type": "code",
      "source": [
        "df.PermitType.unique()"
      ],
      "metadata": {
        "id": "HtTlV9Mzezij",
        "colab": {
          "base_uri": "https://localhost:8080/"
        },
        "outputId": "013e966a-6621-4690-c75c-772b2b34d809"
      },
      "execution_count": 42,
      "outputs": [
        {
          "output_type": "execute_result",
          "data": {
            "text/plain": [
              "array([4, 3, 8, 6, 7, 1, 5, 2])"
            ]
          },
          "metadata": {},
          "execution_count": 42
        }
      ]
    },
    {
      "cell_type": "code",
      "source": [],
      "metadata": {
        "id": "aJbNDAygqsx8"
      },
      "execution_count": 47,
      "outputs": []
    },
    {
      "cell_type": "code",
      "source": [],
      "metadata": {
        "id": "qtknSqx5q1uj"
      },
      "execution_count": 47,
      "outputs": []
    },
    {
      "cell_type": "code",
      "source": [],
      "metadata": {
        "id": "BswKbwE34gh9"
      },
      "execution_count": 47,
      "outputs": []
    }
  ]
}