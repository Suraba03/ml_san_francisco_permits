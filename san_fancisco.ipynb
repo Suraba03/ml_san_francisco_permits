{
  "nbformat": 4,
  "nbformat_minor": 0,
  "metadata": {
    "colab": {
      "provenance": [],
      "collapsed_sections": [
        "qBdpYYYieqjK"
      ],
      "mount_file_id": "1T6ykIrR6TiuZpHew4HrGSPJxjA4Ntm2Q",
      "authorship_tag": "ABX9TyPLhlMQXZYOrl4gOpjrYHYq",
      "include_colab_link": true
    },
    "kernelspec": {
      "name": "python3",
      "display_name": "Python 3"
    },
    "language_info": {
      "name": "python"
    }
  },
  "cells": [
    {
      "cell_type": "markdown",
      "metadata": {
        "id": "view-in-github",
        "colab_type": "text"
      },
      "source": [
        "<a href=\"https://colab.research.google.com/github/Suraba03/ml_san_francisco_permits/blob/main/san_fancisco.ipynb\" target=\"_parent\"><img src=\"https://colab.research.google.com/assets/colab-badge.svg\" alt=\"Open In Colab\"/></a>"
      ]
    },
    {
      "cell_type": "markdown",
      "source": [
        "# import data and first glance"
      ],
      "metadata": {
        "id": "qBdpYYYieqjK"
      }
    },
    {
      "cell_type": "code",
      "execution_count": null,
      "metadata": {
        "id": "81vxBG1lc7fT"
      },
      "outputs": [],
      "source": [
        "import pandas as pd\n",
        "import numpy as np\n",
        "from matplotlib import pyplot as plt\n",
        "import seaborn as sns"
      ]
    },
    {
      "cell_type": "code",
      "source": [
        "!ls"
      ],
      "metadata": {
        "colab": {
          "base_uri": "https://localhost:8080/"
        },
        "id": "63OCYrHL6B7S",
        "outputId": "4d8f52a8-1114-418e-a520-51393c83d2d4"
      },
      "execution_count": null,
      "outputs": [
        {
          "output_type": "stream",
          "name": "stdout",
          "text": [
            "drive  sample_data\n"
          ]
        }
      ]
    },
    {
      "cell_type": "code",
      "source": [
        "df = pd.read_csv('/content/drive/MyDrive/Colab Notebooks/san_francisco/Building_Permits.csv')"
      ],
      "metadata": {
        "colab": {
          "base_uri": "https://localhost:8080/"
        },
        "id": "EehQzGkxezXj",
        "outputId": "9dd72957-a46b-4ee3-9791-a85c73d349e8"
      },
      "execution_count": null,
      "outputs": [
        {
          "output_type": "stream",
          "name": "stderr",
          "text": [
            "<ipython-input-3-5a9255161ba3>:1: DtypeWarning: Columns (22,32) have mixed types. Specify dtype option on import or set low_memory=False.\n",
            "  df = pd.read_csv('/content/drive/MyDrive/Colab Notebooks/san_francisco/Building_Permits.csv')\n"
          ]
        }
      ]
    },
    {
      "cell_type": "code",
      "source": [
        "pd.set_option('display.max_columns', None)"
      ],
      "metadata": {
        "id": "cVeeNp-Uh7v8"
      },
      "execution_count": null,
      "outputs": []
    },
    {
      "cell_type": "code",
      "source": [
        "df.head()"
      ],
      "metadata": {
        "colab": {
          "base_uri": "https://localhost:8080/"
        },
        "id": "xtFwJOqrhJsb",
        "outputId": "ac36784f-bfcb-4b1a-f68d-119cb6a5bad4"
      },
      "execution_count": null,
      "outputs": [
        {
          "output_type": "execute_result",
          "data": {
            "text/plain": [
              "  Permit Number  Permit Type            Permit Type Definition  \\\n",
              "0  201505065519            4                      sign - erect   \n",
              "1  201604195146            4                      sign - erect   \n",
              "2  201605278609            3  additions alterations or repairs   \n",
              "3  201611072166            8            otc alterations permit   \n",
              "4  201611283529            6                       demolitions   \n",
              "\n",
              "  Permit Creation Date Block  Lot  Street Number Street Number Suffix  \\\n",
              "0           05/06/2015  0326  023            140                  NaN   \n",
              "1           04/19/2016  0306  007            440                  NaN   \n",
              "2           05/27/2016  0595  203           1647                  NaN   \n",
              "3           11/07/2016  0156  011           1230                  NaN   \n",
              "4           11/28/2016  0342  001            950                  NaN   \n",
              "\n",
              "  Street Name Street Suffix  Unit Unit Suffix  \\\n",
              "0       Ellis            St   NaN         NaN   \n",
              "1       Geary            St   0.0         NaN   \n",
              "2     Pacific            Av   NaN         NaN   \n",
              "3     Pacific            Av   0.0         NaN   \n",
              "4      Market            St   NaN         NaN   \n",
              "\n",
              "                                         Description Current Status  \\\n",
              "0  ground fl facade: to erect illuminated, electr...        expired   \n",
              "1            remove (e) awning and associated signs.         issued   \n",
              "2                    installation of separating wall      withdrawn   \n",
              "3           repair dryrot & stucco at front of bldg.       complete   \n",
              "4  demolish retail/office/commercial 3-story buil...         issued   \n",
              "\n",
              "  Current Status Date  Filed Date Issued Date Completed Date  \\\n",
              "0          12/21/2017  05/06/2015  11/09/2015            NaN   \n",
              "1          08/03/2017  04/19/2016  08/03/2017            NaN   \n",
              "2          09/26/2017  05/27/2016         NaN            NaN   \n",
              "3          07/24/2017  11/07/2016  07/18/2017     07/24/2017   \n",
              "4          12/01/2017  11/28/2016  12/01/2017            NaN   \n",
              "\n",
              "  First Construction Document Date Structural Notification  \\\n",
              "0                       11/09/2015                     NaN   \n",
              "1                       08/03/2017                     NaN   \n",
              "2                              NaN                     NaN   \n",
              "3                       07/18/2017                     NaN   \n",
              "4                       11/20/2017                     NaN   \n",
              "\n",
              "   Number of Existing Stories  Number of Proposed Stories  \\\n",
              "0                         6.0                         NaN   \n",
              "1                         7.0                         NaN   \n",
              "2                         6.0                         6.0   \n",
              "3                         2.0                         2.0   \n",
              "4                         3.0                         NaN   \n",
              "\n",
              "  Voluntary Soft-Story Retrofit Fire Only Permit Permit Expiration Date  \\\n",
              "0                           NaN              NaN             11/03/2016   \n",
              "1                           NaN              NaN             12/03/2017   \n",
              "2                           NaN              NaN                    NaN   \n",
              "3                           NaN              NaN             07/13/2018   \n",
              "4                           NaN              NaN             12/01/2018   \n",
              "\n",
              "   Estimated Cost  Revised Cost         Existing Use  Existing Units  \\\n",
              "0          4000.0        4000.0  tourist hotel/motel           143.0   \n",
              "1             1.0         500.0  tourist hotel/motel             NaN   \n",
              "2         20000.0           NaN         retail sales            39.0   \n",
              "3          2000.0        2000.0    1 family dwelling             1.0   \n",
              "4        100000.0      100000.0         retail sales             NaN   \n",
              "\n",
              "        Proposed Use  Proposed Units  Plansets TIDF Compliance  \\\n",
              "0                NaN             NaN       2.0             NaN   \n",
              "1                NaN             NaN       2.0             NaN   \n",
              "2       retail sales            39.0       2.0             NaN   \n",
              "3  1 family dwelling             1.0       2.0             NaN   \n",
              "4                NaN             NaN       2.0             NaN   \n",
              "\n",
              "   Existing Construction Type Existing Construction Type Description  \\\n",
              "0                         3.0                          constr type 3   \n",
              "1                         3.0                          constr type 3   \n",
              "2                         1.0                          constr type 1   \n",
              "3                         5.0                         wood frame (5)   \n",
              "4                         3.0                          constr type 3   \n",
              "\n",
              "   Proposed Construction Type Proposed Construction Type Description  \\\n",
              "0                         NaN                                    NaN   \n",
              "1                         NaN                                    NaN   \n",
              "2                         1.0                          constr type 1   \n",
              "3                         5.0                         wood frame (5)   \n",
              "4                         NaN                                    NaN   \n",
              "\n",
              "  Site Permit  Supervisor District Neighborhoods - Analysis Boundaries  \\\n",
              "0         NaN                  3.0                          Tenderloin   \n",
              "1         NaN                  3.0                          Tenderloin   \n",
              "2         NaN                  3.0                        Russian Hill   \n",
              "3         NaN                  3.0                            Nob Hill   \n",
              "4         NaN                  6.0                          Tenderloin   \n",
              "\n",
              "   Zipcode                                   Location      Record ID  \n",
              "0  94102.0  (37.785719256680785, -122.40852313194863)  1380611233945  \n",
              "1  94102.0   (37.78733980600732, -122.41063199757738)  1420164406718  \n",
              "2  94109.0    (37.7946573324287, -122.42232562979227)  1424856504716  \n",
              "3  94109.0   (37.79595867909168, -122.41557405519474)  1443574295566  \n",
              "4  94102.0   (37.78315261897309, -122.40950883997789)   144548169992  "
            ],
            "text/html": [
              "\n",
              "  <div id=\"df-be684345-4b20-4bbd-aae0-82070c7252e4\">\n",
              "    <div class=\"colab-df-container\">\n",
              "      <div>\n",
              "<style scoped>\n",
              "    .dataframe tbody tr th:only-of-type {\n",
              "        vertical-align: middle;\n",
              "    }\n",
              "\n",
              "    .dataframe tbody tr th {\n",
              "        vertical-align: top;\n",
              "    }\n",
              "\n",
              "    .dataframe thead th {\n",
              "        text-align: right;\n",
              "    }\n",
              "</style>\n",
              "<table border=\"1\" class=\"dataframe\">\n",
              "  <thead>\n",
              "    <tr style=\"text-align: right;\">\n",
              "      <th></th>\n",
              "      <th>Permit Number</th>\n",
              "      <th>Permit Type</th>\n",
              "      <th>Permit Type Definition</th>\n",
              "      <th>Permit Creation Date</th>\n",
              "      <th>Block</th>\n",
              "      <th>Lot</th>\n",
              "      <th>Street Number</th>\n",
              "      <th>Street Number Suffix</th>\n",
              "      <th>Street Name</th>\n",
              "      <th>Street Suffix</th>\n",
              "      <th>Unit</th>\n",
              "      <th>Unit Suffix</th>\n",
              "      <th>Description</th>\n",
              "      <th>Current Status</th>\n",
              "      <th>Current Status Date</th>\n",
              "      <th>Filed Date</th>\n",
              "      <th>Issued Date</th>\n",
              "      <th>Completed Date</th>\n",
              "      <th>First Construction Document Date</th>\n",
              "      <th>Structural Notification</th>\n",
              "      <th>Number of Existing Stories</th>\n",
              "      <th>Number of Proposed Stories</th>\n",
              "      <th>Voluntary Soft-Story Retrofit</th>\n",
              "      <th>Fire Only Permit</th>\n",
              "      <th>Permit Expiration Date</th>\n",
              "      <th>Estimated Cost</th>\n",
              "      <th>Revised Cost</th>\n",
              "      <th>Existing Use</th>\n",
              "      <th>Existing Units</th>\n",
              "      <th>Proposed Use</th>\n",
              "      <th>Proposed Units</th>\n",
              "      <th>Plansets</th>\n",
              "      <th>TIDF Compliance</th>\n",
              "      <th>Existing Construction Type</th>\n",
              "      <th>Existing Construction Type Description</th>\n",
              "      <th>Proposed Construction Type</th>\n",
              "      <th>Proposed Construction Type Description</th>\n",
              "      <th>Site Permit</th>\n",
              "      <th>Supervisor District</th>\n",
              "      <th>Neighborhoods - Analysis Boundaries</th>\n",
              "      <th>Zipcode</th>\n",
              "      <th>Location</th>\n",
              "      <th>Record ID</th>\n",
              "    </tr>\n",
              "  </thead>\n",
              "  <tbody>\n",
              "    <tr>\n",
              "      <th>0</th>\n",
              "      <td>201505065519</td>\n",
              "      <td>4</td>\n",
              "      <td>sign - erect</td>\n",
              "      <td>05/06/2015</td>\n",
              "      <td>0326</td>\n",
              "      <td>023</td>\n",
              "      <td>140</td>\n",
              "      <td>NaN</td>\n",
              "      <td>Ellis</td>\n",
              "      <td>St</td>\n",
              "      <td>NaN</td>\n",
              "      <td>NaN</td>\n",
              "      <td>ground fl facade: to erect illuminated, electr...</td>\n",
              "      <td>expired</td>\n",
              "      <td>12/21/2017</td>\n",
              "      <td>05/06/2015</td>\n",
              "      <td>11/09/2015</td>\n",
              "      <td>NaN</td>\n",
              "      <td>11/09/2015</td>\n",
              "      <td>NaN</td>\n",
              "      <td>6.0</td>\n",
              "      <td>NaN</td>\n",
              "      <td>NaN</td>\n",
              "      <td>NaN</td>\n",
              "      <td>11/03/2016</td>\n",
              "      <td>4000.0</td>\n",
              "      <td>4000.0</td>\n",
              "      <td>tourist hotel/motel</td>\n",
              "      <td>143.0</td>\n",
              "      <td>NaN</td>\n",
              "      <td>NaN</td>\n",
              "      <td>2.0</td>\n",
              "      <td>NaN</td>\n",
              "      <td>3.0</td>\n",
              "      <td>constr type 3</td>\n",
              "      <td>NaN</td>\n",
              "      <td>NaN</td>\n",
              "      <td>NaN</td>\n",
              "      <td>3.0</td>\n",
              "      <td>Tenderloin</td>\n",
              "      <td>94102.0</td>\n",
              "      <td>(37.785719256680785, -122.40852313194863)</td>\n",
              "      <td>1380611233945</td>\n",
              "    </tr>\n",
              "    <tr>\n",
              "      <th>1</th>\n",
              "      <td>201604195146</td>\n",
              "      <td>4</td>\n",
              "      <td>sign - erect</td>\n",
              "      <td>04/19/2016</td>\n",
              "      <td>0306</td>\n",
              "      <td>007</td>\n",
              "      <td>440</td>\n",
              "      <td>NaN</td>\n",
              "      <td>Geary</td>\n",
              "      <td>St</td>\n",
              "      <td>0.0</td>\n",
              "      <td>NaN</td>\n",
              "      <td>remove (e) awning and associated signs.</td>\n",
              "      <td>issued</td>\n",
              "      <td>08/03/2017</td>\n",
              "      <td>04/19/2016</td>\n",
              "      <td>08/03/2017</td>\n",
              "      <td>NaN</td>\n",
              "      <td>08/03/2017</td>\n",
              "      <td>NaN</td>\n",
              "      <td>7.0</td>\n",
              "      <td>NaN</td>\n",
              "      <td>NaN</td>\n",
              "      <td>NaN</td>\n",
              "      <td>12/03/2017</td>\n",
              "      <td>1.0</td>\n",
              "      <td>500.0</td>\n",
              "      <td>tourist hotel/motel</td>\n",
              "      <td>NaN</td>\n",
              "      <td>NaN</td>\n",
              "      <td>NaN</td>\n",
              "      <td>2.0</td>\n",
              "      <td>NaN</td>\n",
              "      <td>3.0</td>\n",
              "      <td>constr type 3</td>\n",
              "      <td>NaN</td>\n",
              "      <td>NaN</td>\n",
              "      <td>NaN</td>\n",
              "      <td>3.0</td>\n",
              "      <td>Tenderloin</td>\n",
              "      <td>94102.0</td>\n",
              "      <td>(37.78733980600732, -122.41063199757738)</td>\n",
              "      <td>1420164406718</td>\n",
              "    </tr>\n",
              "    <tr>\n",
              "      <th>2</th>\n",
              "      <td>201605278609</td>\n",
              "      <td>3</td>\n",
              "      <td>additions alterations or repairs</td>\n",
              "      <td>05/27/2016</td>\n",
              "      <td>0595</td>\n",
              "      <td>203</td>\n",
              "      <td>1647</td>\n",
              "      <td>NaN</td>\n",
              "      <td>Pacific</td>\n",
              "      <td>Av</td>\n",
              "      <td>NaN</td>\n",
              "      <td>NaN</td>\n",
              "      <td>installation of separating wall</td>\n",
              "      <td>withdrawn</td>\n",
              "      <td>09/26/2017</td>\n",
              "      <td>05/27/2016</td>\n",
              "      <td>NaN</td>\n",
              "      <td>NaN</td>\n",
              "      <td>NaN</td>\n",
              "      <td>NaN</td>\n",
              "      <td>6.0</td>\n",
              "      <td>6.0</td>\n",
              "      <td>NaN</td>\n",
              "      <td>NaN</td>\n",
              "      <td>NaN</td>\n",
              "      <td>20000.0</td>\n",
              "      <td>NaN</td>\n",
              "      <td>retail sales</td>\n",
              "      <td>39.0</td>\n",
              "      <td>retail sales</td>\n",
              "      <td>39.0</td>\n",
              "      <td>2.0</td>\n",
              "      <td>NaN</td>\n",
              "      <td>1.0</td>\n",
              "      <td>constr type 1</td>\n",
              "      <td>1.0</td>\n",
              "      <td>constr type 1</td>\n",
              "      <td>NaN</td>\n",
              "      <td>3.0</td>\n",
              "      <td>Russian Hill</td>\n",
              "      <td>94109.0</td>\n",
              "      <td>(37.7946573324287, -122.42232562979227)</td>\n",
              "      <td>1424856504716</td>\n",
              "    </tr>\n",
              "    <tr>\n",
              "      <th>3</th>\n",
              "      <td>201611072166</td>\n",
              "      <td>8</td>\n",
              "      <td>otc alterations permit</td>\n",
              "      <td>11/07/2016</td>\n",
              "      <td>0156</td>\n",
              "      <td>011</td>\n",
              "      <td>1230</td>\n",
              "      <td>NaN</td>\n",
              "      <td>Pacific</td>\n",
              "      <td>Av</td>\n",
              "      <td>0.0</td>\n",
              "      <td>NaN</td>\n",
              "      <td>repair dryrot &amp; stucco at front of bldg.</td>\n",
              "      <td>complete</td>\n",
              "      <td>07/24/2017</td>\n",
              "      <td>11/07/2016</td>\n",
              "      <td>07/18/2017</td>\n",
              "      <td>07/24/2017</td>\n",
              "      <td>07/18/2017</td>\n",
              "      <td>NaN</td>\n",
              "      <td>2.0</td>\n",
              "      <td>2.0</td>\n",
              "      <td>NaN</td>\n",
              "      <td>NaN</td>\n",
              "      <td>07/13/2018</td>\n",
              "      <td>2000.0</td>\n",
              "      <td>2000.0</td>\n",
              "      <td>1 family dwelling</td>\n",
              "      <td>1.0</td>\n",
              "      <td>1 family dwelling</td>\n",
              "      <td>1.0</td>\n",
              "      <td>2.0</td>\n",
              "      <td>NaN</td>\n",
              "      <td>5.0</td>\n",
              "      <td>wood frame (5)</td>\n",
              "      <td>5.0</td>\n",
              "      <td>wood frame (5)</td>\n",
              "      <td>NaN</td>\n",
              "      <td>3.0</td>\n",
              "      <td>Nob Hill</td>\n",
              "      <td>94109.0</td>\n",
              "      <td>(37.79595867909168, -122.41557405519474)</td>\n",
              "      <td>1443574295566</td>\n",
              "    </tr>\n",
              "    <tr>\n",
              "      <th>4</th>\n",
              "      <td>201611283529</td>\n",
              "      <td>6</td>\n",
              "      <td>demolitions</td>\n",
              "      <td>11/28/2016</td>\n",
              "      <td>0342</td>\n",
              "      <td>001</td>\n",
              "      <td>950</td>\n",
              "      <td>NaN</td>\n",
              "      <td>Market</td>\n",
              "      <td>St</td>\n",
              "      <td>NaN</td>\n",
              "      <td>NaN</td>\n",
              "      <td>demolish retail/office/commercial 3-story buil...</td>\n",
              "      <td>issued</td>\n",
              "      <td>12/01/2017</td>\n",
              "      <td>11/28/2016</td>\n",
              "      <td>12/01/2017</td>\n",
              "      <td>NaN</td>\n",
              "      <td>11/20/2017</td>\n",
              "      <td>NaN</td>\n",
              "      <td>3.0</td>\n",
              "      <td>NaN</td>\n",
              "      <td>NaN</td>\n",
              "      <td>NaN</td>\n",
              "      <td>12/01/2018</td>\n",
              "      <td>100000.0</td>\n",
              "      <td>100000.0</td>\n",
              "      <td>retail sales</td>\n",
              "      <td>NaN</td>\n",
              "      <td>NaN</td>\n",
              "      <td>NaN</td>\n",
              "      <td>2.0</td>\n",
              "      <td>NaN</td>\n",
              "      <td>3.0</td>\n",
              "      <td>constr type 3</td>\n",
              "      <td>NaN</td>\n",
              "      <td>NaN</td>\n",
              "      <td>NaN</td>\n",
              "      <td>6.0</td>\n",
              "      <td>Tenderloin</td>\n",
              "      <td>94102.0</td>\n",
              "      <td>(37.78315261897309, -122.40950883997789)</td>\n",
              "      <td>144548169992</td>\n",
              "    </tr>\n",
              "  </tbody>\n",
              "</table>\n",
              "</div>\n",
              "      <button class=\"colab-df-convert\" onclick=\"convertToInteractive('df-be684345-4b20-4bbd-aae0-82070c7252e4')\"\n",
              "              title=\"Convert this dataframe to an interactive table.\"\n",
              "              style=\"display:none;\">\n",
              "        \n",
              "  <svg xmlns=\"http://www.w3.org/2000/svg\" height=\"24px\"viewBox=\"0 0 24 24\"\n",
              "       width=\"24px\">\n",
              "    <path d=\"M0 0h24v24H0V0z\" fill=\"none\"/>\n",
              "    <path d=\"M18.56 5.44l.94 2.06.94-2.06 2.06-.94-2.06-.94-.94-2.06-.94 2.06-2.06.94zm-11 1L8.5 8.5l.94-2.06 2.06-.94-2.06-.94L8.5 2.5l-.94 2.06-2.06.94zm10 10l.94 2.06.94-2.06 2.06-.94-2.06-.94-.94-2.06-.94 2.06-2.06.94z\"/><path d=\"M17.41 7.96l-1.37-1.37c-.4-.4-.92-.59-1.43-.59-.52 0-1.04.2-1.43.59L10.3 9.45l-7.72 7.72c-.78.78-.78 2.05 0 2.83L4 21.41c.39.39.9.59 1.41.59.51 0 1.02-.2 1.41-.59l7.78-7.78 2.81-2.81c.8-.78.8-2.07 0-2.86zM5.41 20L4 18.59l7.72-7.72 1.47 1.35L5.41 20z\"/>\n",
              "  </svg>\n",
              "      </button>\n",
              "      \n",
              "  <style>\n",
              "    .colab-df-container {\n",
              "      display:flex;\n",
              "      flex-wrap:wrap;\n",
              "      gap: 12px;\n",
              "    }\n",
              "\n",
              "    .colab-df-convert {\n",
              "      background-color: #E8F0FE;\n",
              "      border: none;\n",
              "      border-radius: 50%;\n",
              "      cursor: pointer;\n",
              "      display: none;\n",
              "      fill: #1967D2;\n",
              "      height: 32px;\n",
              "      padding: 0 0 0 0;\n",
              "      width: 32px;\n",
              "    }\n",
              "\n",
              "    .colab-df-convert:hover {\n",
              "      background-color: #E2EBFA;\n",
              "      box-shadow: 0px 1px 2px rgba(60, 64, 67, 0.3), 0px 1px 3px 1px rgba(60, 64, 67, 0.15);\n",
              "      fill: #174EA6;\n",
              "    }\n",
              "\n",
              "    [theme=dark] .colab-df-convert {\n",
              "      background-color: #3B4455;\n",
              "      fill: #D2E3FC;\n",
              "    }\n",
              "\n",
              "    [theme=dark] .colab-df-convert:hover {\n",
              "      background-color: #434B5C;\n",
              "      box-shadow: 0px 1px 3px 1px rgba(0, 0, 0, 0.15);\n",
              "      filter: drop-shadow(0px 1px 2px rgba(0, 0, 0, 0.3));\n",
              "      fill: #FFFFFF;\n",
              "    }\n",
              "  </style>\n",
              "\n",
              "      <script>\n",
              "        const buttonEl =\n",
              "          document.querySelector('#df-be684345-4b20-4bbd-aae0-82070c7252e4 button.colab-df-convert');\n",
              "        buttonEl.style.display =\n",
              "          google.colab.kernel.accessAllowed ? 'block' : 'none';\n",
              "\n",
              "        async function convertToInteractive(key) {\n",
              "          const element = document.querySelector('#df-be684345-4b20-4bbd-aae0-82070c7252e4');\n",
              "          const dataTable =\n",
              "            await google.colab.kernel.invokeFunction('convertToInteractive',\n",
              "                                                     [key], {});\n",
              "          if (!dataTable) return;\n",
              "\n",
              "          const docLinkHtml = 'Like what you see? Visit the ' +\n",
              "            '<a target=\"_blank\" href=https://colab.research.google.com/notebooks/data_table.ipynb>data table notebook</a>'\n",
              "            + ' to learn more about interactive tables.';\n",
              "          element.innerHTML = '';\n",
              "          dataTable['output_type'] = 'display_data';\n",
              "          await google.colab.output.renderOutput(dataTable, element);\n",
              "          const docLink = document.createElement('div');\n",
              "          docLink.innerHTML = docLinkHtml;\n",
              "          element.appendChild(docLink);\n",
              "        }\n",
              "      </script>\n",
              "    </div>\n",
              "  </div>\n",
              "  "
            ]
          },
          "metadata": {},
          "execution_count": 5
        }
      ]
    },
    {
      "cell_type": "code",
      "source": [
        "df.shape"
      ],
      "metadata": {
        "colab": {
          "base_uri": "https://localhost:8080/"
        },
        "id": "s8VomZvEnquS",
        "outputId": "a8a18f44-e66f-416d-97cb-cf27036a73ef"
      },
      "execution_count": null,
      "outputs": [
        {
          "output_type": "execute_result",
          "data": {
            "text/plain": [
              "(198900, 43)"
            ]
          },
          "metadata": {},
          "execution_count": 6
        }
      ]
    },
    {
      "cell_type": "markdown",
      "source": [
        "# preprocessing"
      ],
      "metadata": {
        "id": "OQiYDagenbl7"
      }
    },
    {
      "cell_type": "markdown",
      "source": [
        "let's remove white spaces from columns names"
      ],
      "metadata": {
        "id": "h5Hcd7VynOYY"
      }
    },
    {
      "cell_type": "code",
      "source": [
        "df = df.rename(lambda name: name.replace(\" \", \"\"), axis='columns')"
      ],
      "metadata": {
        "id": "4iLQ_I8um0Yn"
      },
      "execution_count": null,
      "outputs": []
    },
    {
      "cell_type": "markdown",
      "source": [
        "let's divide features list into two groups: numerical and categorical"
      ],
      "metadata": {
        "id": "6O4ucyGmoUX1"
      }
    },
    {
      "cell_type": "code",
      "source": [
        "num_cols = [col for col in df.columns if \"int\" in str(df[col].dtype) or \"float\" in str(df[col].dtype)]\n",
        "cat_cols = [col for col in df.columns if \"object\" == str(df[col].dtype) and col != \"CurrentStatus\"]\n",
        "print(num_cols)\n",
        "print(cat_cols)"
      ],
      "metadata": {
        "id": "QG8ODFikezd2",
        "colab": {
          "base_uri": "https://localhost:8080/"
        },
        "outputId": "e9f0e8ed-71aa-4a60-d56f-a7cf37aad8b0"
      },
      "execution_count": null,
      "outputs": [
        {
          "output_type": "stream",
          "name": "stdout",
          "text": [
            "['PermitType', 'StreetNumber', 'Unit', 'NumberofExistingStories', 'NumberofProposedStories', 'EstimatedCost', 'RevisedCost', 'ExistingUnits', 'ProposedUnits', 'Plansets', 'ExistingConstructionType', 'ProposedConstructionType', 'SupervisorDistrict', 'Zipcode', 'RecordID']\n",
            "['PermitNumber', 'PermitTypeDefinition', 'PermitCreationDate', 'Block', 'Lot', 'StreetNumberSuffix', 'StreetName', 'StreetSuffix', 'UnitSuffix', 'Description', 'CurrentStatusDate', 'FiledDate', 'IssuedDate', 'CompletedDate', 'FirstConstructionDocumentDate', 'StructuralNotification', 'VoluntarySoft-StoryRetrofit', 'FireOnlyPermit', 'PermitExpirationDate', 'ExistingUse', 'ProposedUse', 'TIDFCompliance', 'ExistingConstructionTypeDescription', 'ProposedConstructionTypeDescription', 'SitePermit', 'Neighborhoods-AnalysisBoundaries', 'Location']\n"
          ]
        }
      ]
    },
    {
      "cell_type": "code",
      "source": [
        "target = \"CurrentStatus\""
      ],
      "metadata": {
        "id": "tbVzJIKr0PA0"
      },
      "execution_count": null,
      "outputs": []
    },
    {
      "cell_type": "markdown",
      "source": [
        "these CurrentStatus values are useless because they are still in process, so that let's **drop them**"
      ],
      "metadata": {
        "id": "UTiTc8-7Drtn"
      }
    },
    {
      "cell_type": "code",
      "source": [
        "df = df[(df['CurrentStatus'] != 'filed') &\n",
        "       (df['CurrentStatus'] != 'withdrawn') &\n",
        "       (df['CurrentStatus'] != 'expired') &\n",
        "       (df['CurrentStatus'] != 'plancheck') &\n",
        "       (df['CurrentStatus'] != 'disapproved') &\n",
        "       (df['CurrentStatus'] != 'appeal') ]"
      ],
      "metadata": {
        "id": "TmzcP5UADqqT"
      },
      "execution_count": null,
      "outputs": []
    },
    {
      "cell_type": "code",
      "source": [
        "df.shape"
      ],
      "metadata": {
        "colab": {
          "base_uri": "https://localhost:8080/"
        },
        "id": "lFVxA5oPDqsM",
        "outputId": "4d70f51f-aed9-405c-d45a-1a30a814906c"
      },
      "execution_count": null,
      "outputs": [
        {
          "output_type": "execute_result",
          "data": {
            "text/plain": [
              "(183713, 43)"
            ]
          },
          "metadata": {},
          "execution_count": 11
        }
      ]
    },
    {
      "cell_type": "markdown",
      "source": [
        "Well we've lost apprx 15k rows, not so bad"
      ],
      "metadata": {
        "id": "bMPLJFtaF0Dw"
      }
    },
    {
      "cell_type": "markdown",
      "source": [
        "Now let's divide values in **CurrentStatus** into two groups:\n",
        "+ positive (value 1): application was rejected))\n",
        "+ negative (value 0): application was approved\n",
        "\n",
        "So lets consider ```[cancelled, suspend, revoked]``` as a **rejected** applications and ```[complete, issued, approved, reinstated, incomplete]``` as **approved** ones."
      ],
      "metadata": {
        "id": "GVBKHNHnEUaJ"
      }
    },
    {
      "cell_type": "code",
      "source": [
        "df['CurrentStatus'] = df['CurrentStatus'].map({'cancelled': 1, 'suspend': 1, 'revoked': 1,\n",
        "                                                 'complete': 0, 'issued': 0, 'approved': 0, \n",
        "                                                 'reinstated': 0, 'incomplete': 0});"
      ],
      "metadata": {
        "id": "dUqSX-qwES2n",
        "colab": {
          "base_uri": "https://localhost:8080/"
        },
        "outputId": "a210460b-512d-4edc-87e2-63686fb55bd6"
      },
      "execution_count": null,
      "outputs": [
        {
          "output_type": "stream",
          "name": "stderr",
          "text": [
            "<ipython-input-12-cecd630ab8b1>:1: SettingWithCopyWarning: \n",
            "A value is trying to be set on a copy of a slice from a DataFrame.\n",
            "Try using .loc[row_indexer,col_indexer] = value instead\n",
            "\n",
            "See the caveats in the documentation: https://pandas.pydata.org/pandas-docs/stable/user_guide/indexing.html#returning-a-view-versus-a-copy\n",
            "  df['CurrentStatus'] = df['CurrentStatus'].map({'cancelled': 1, 'suspend': 1, 'revoked': 1,\n"
          ]
        }
      ]
    },
    {
      "cell_type": "code",
      "source": [
        "df['CurrentStatus'] = df['CurrentStatus'].astype('int64');"
      ],
      "metadata": {
        "id": "5_iymtZ2Dquw",
        "colab": {
          "base_uri": "https://localhost:8080/"
        },
        "outputId": "56aeb41d-b05d-4345-99c5-dd9085bac3e6"
      },
      "execution_count": null,
      "outputs": [
        {
          "output_type": "stream",
          "name": "stderr",
          "text": [
            "<ipython-input-13-2d1d0d4399f9>:1: SettingWithCopyWarning: \n",
            "A value is trying to be set on a copy of a slice from a DataFrame.\n",
            "Try using .loc[row_indexer,col_indexer] = value instead\n",
            "\n",
            "See the caveats in the documentation: https://pandas.pydata.org/pandas-docs/stable/user_guide/indexing.html#returning-a-view-versus-a-copy\n",
            "  df['CurrentStatus'] = df['CurrentStatus'].astype('int64');\n"
          ]
        }
      ]
    },
    {
      "cell_type": "code",
      "source": [],
      "metadata": {
        "id": "q7Olg2DfDqxA"
      },
      "execution_count": null,
      "outputs": []
    },
    {
      "cell_type": "code",
      "source": [],
      "metadata": {
        "id": "5YSArtlGDqzZ"
      },
      "execution_count": null,
      "outputs": []
    },
    {
      "cell_type": "code",
      "source": [],
      "metadata": {
        "id": "L8VeC24uDq2O"
      },
      "execution_count": null,
      "outputs": []
    },
    {
      "cell_type": "code",
      "source": [
        "import seaborn as sns"
      ],
      "metadata": {
        "id": "0TcKkN450cGE"
      },
      "execution_count": null,
      "outputs": []
    },
    {
      "cell_type": "code",
      "source": [
        "sns.set(rc={'figure.figsize':(10,10)})\n",
        "sns.countplot(x=target, data=df);"
      ],
      "metadata": {
        "colab": {
          "base_uri": "https://localhost:8080/",
          "height": 611
        },
        "id": "97snDF2z1p6l",
        "outputId": "c8739949-d784-42e8-b072-8e9ce2f87deb"
      },
      "execution_count": null,
      "outputs": [
        {
          "output_type": "display_data",
          "data": {
            "text/plain": [
              "<Figure size 720x720 with 1 Axes>"
            ],
            "image/png": "[encoded data removed]"
          },
          "metadata": {}
        }
      ]
    },
    {
      "cell_type": "code",
      "source": [
        "df[target].value_counts() / df.shape[0]"
      ],
      "metadata": {
        "colab": {
          "base_uri": "https://localhost:8080/"
        },
        "id": "rnO9bG6g2KnX",
        "outputId": "6df7e82e-f961-4361-9903-98ee3b273b9c"
      },
      "execution_count": null,
      "outputs": [
        {
          "output_type": "execute_result",
          "data": {
            "text/plain": [
              "0    0.990316\n",
              "1    0.009684\n",
              "Name: CurrentStatus, dtype: float64"
            ]
          },
          "metadata": {},
          "execution_count": 16
        }
      ]
    },
    {
      "cell_type": "markdown",
      "source": [
        "just a sanity check"
      ],
      "metadata": {
        "id": "GOyCQzTVqTCl"
      }
    },
    {
      "cell_type": "code",
      "source": [
        "set(num_cols+cat_cols + [target]) == set(df.columns)"
      ],
      "metadata": {
        "colab": {
          "base_uri": "https://localhost:8080/"
        },
        "id": "_6WlvBtIqCiA",
        "outputId": "aa97109d-cbd7-499f-a414-ae8ef6c5cfbd"
      },
      "execution_count": null,
      "outputs": [
        {
          "output_type": "execute_result",
          "data": {
            "text/plain": [
              "True"
            ]
          },
          "metadata": {},
          "execution_count": 17
        }
      ]
    },
    {
      "cell_type": "markdown",
      "source": [
        "## deal with missing values"
      ],
      "metadata": {
        "id": "l8TbbCLUoDuK"
      }
    },
    {
      "cell_type": "code",
      "source": [
        "for i in df.columns:\n",
        "    print(i)"
      ],
      "metadata": {
        "id": "c1xb7hkqezgN",
        "colab": {
          "base_uri": "https://localhost:8080/"
        },
        "outputId": "a07b3d3b-cc73-4b25-bd6d-8194a1b35330"
      },
      "execution_count": null,
      "outputs": [
        {
          "output_type": "stream",
          "name": "stdout",
          "text": [
            "PermitNumber\n",
            "PermitType\n",
            "PermitTypeDefinition\n",
            "PermitCreationDate\n",
            "Block\n",
            "Lot\n",
            "StreetNumber\n",
            "StreetNumberSuffix\n",
            "StreetName\n",
            "StreetSuffix\n",
            "Unit\n",
            "UnitSuffix\n",
            "Description\n",
            "CurrentStatus\n",
            "CurrentStatusDate\n",
            "FiledDate\n",
            "IssuedDate\n",
            "CompletedDate\n",
            "FirstConstructionDocumentDate\n",
            "StructuralNotification\n",
            "NumberofExistingStories\n",
            "NumberofProposedStories\n",
            "VoluntarySoft-StoryRetrofit\n",
            "FireOnlyPermit\n",
            "PermitExpirationDate\n",
            "EstimatedCost\n",
            "RevisedCost\n",
            "ExistingUse\n",
            "ExistingUnits\n",
            "ProposedUse\n",
            "ProposedUnits\n",
            "Plansets\n",
            "TIDFCompliance\n",
            "ExistingConstructionType\n",
            "ExistingConstructionTypeDescription\n",
            "ProposedConstructionType\n",
            "ProposedConstructionTypeDescription\n",
            "SitePermit\n",
            "SupervisorDistrict\n",
            "Neighborhoods-AnalysisBoundaries\n",
            "Zipcode\n",
            "Location\n",
            "RecordID\n"
          ]
        }
      ]
    },
    {
      "cell_type": "code",
      "source": [
        "df.info()"
      ],
      "metadata": {
        "colab": {
          "base_uri": "https://localhost:8080/"
        },
        "id": "I1fbxNH-avvZ",
        "outputId": "2202c156-45ea-4a9f-fd7f-d5dc53b2183e"
      },
      "execution_count": null,
      "outputs": [
        {
          "output_type": "stream",
          "name": "stdout",
          "text": [
            "<class 'pandas.core.frame.DataFrame'>\n",
            "Int64Index: 183713 entries, 1 to 198899\n",
            "Data columns (total 43 columns):\n",
            " #   Column                               Non-Null Count   Dtype  \n",
            "---  ------                               --------------   -----  \n",
            " 0   PermitNumber                         183713 non-null  object \n",
            " 1   PermitType                           183713 non-null  int64  \n",
            " 2   PermitTypeDefinition                 183713 non-null  object \n",
            " 3   PermitCreationDate                   183713 non-null  object \n",
            " 4   Block                                183713 non-null  object \n",
            " 5   Lot                                  183713 non-null  object \n",
            " 6   StreetNumber                         183713 non-null  int64  \n",
            " 7   StreetNumberSuffix                   1992 non-null    object \n",
            " 8   StreetName                           183713 non-null  object \n",
            " 9   StreetSuffix                         181131 non-null  object \n",
            " 10  Unit                                 27280 non-null   float64\n",
            " 11  UnitSuffix                           1858 non-null    object \n",
            " 12  Description                          183624 non-null  object \n",
            " 13  CurrentStatus                        183713 non-null  int64  \n",
            " 14  CurrentStatusDate                    183713 non-null  object \n",
            " 15  FiledDate                            183713 non-null  object \n",
            " 16  IssuedDate                           182589 non-null  object \n",
            " 17  CompletedDate                        97184 non-null   object \n",
            " 18  FirstConstructionDocumentDate        182567 non-null  object \n",
            " 19  StructuralNotification               5367 non-null    object \n",
            " 20  NumberofExistingStories              142879 non-null  float64\n",
            " 21  NumberofProposedStories              142747 non-null  float64\n",
            " 22  VoluntarySoft-StoryRetrofit          29 non-null      object \n",
            " 23  FireOnlyPermit                       18294 non-null   object \n",
            " 24  PermitExpirationDate                 145637 non-null  object \n",
            " 25  EstimatedCost                        146648 non-null  float64\n",
            " 26  RevisedCost                          183331 non-null  float64\n",
            " 27  ExistingUse                          144446 non-null  object \n",
            " 28  ExistingUnits                        134878 non-null  float64\n",
            " 29  ProposedUse                          143156 non-null  object \n",
            " 30  ProposedUnits                        135337 non-null  float64\n",
            " 31  Plansets                             146779 non-null  float64\n",
            " 32  TIDFCompliance                       2 non-null       object \n",
            " 33  ExistingConstructionType             142347 non-null  float64\n",
            " 34  ExistingConstructionTypeDescription  142347 non-null  object \n",
            " 35  ProposedConstructionType             142486 non-null  float64\n",
            " 36  ProposedConstructionTypeDescription  142486 non-null  object \n",
            " 37  SitePermit                           3438 non-null    object \n",
            " 38  SupervisorDistrict                   182061 non-null  float64\n",
            " 39  Neighborhoods-AnalysisBoundaries     182054 non-null  object \n",
            " 40  Zipcode                              182062 non-null  float64\n",
            " 41  Location                             182077 non-null  object \n",
            " 42  RecordID                             183713 non-null  int64  \n",
            "dtypes: float64(12), int64(4), object(27)\n",
            "memory usage: 61.7+ MB\n"
          ]
        }
      ]
    },
    {
      "cell_type": "code",
      "source": [
        "df['EstimatedCost'].count()"
      ],
      "metadata": {
        "colab": {
          "base_uri": "https://localhost:8080/"
        },
        "id": "phTbk_5gcHEp",
        "outputId": "d056f22e-f858-40a7-bef2-7241a84596a4"
      },
      "execution_count": null,
      "outputs": [
        {
          "output_type": "execute_result",
          "data": {
            "text/plain": [
              "146648"
            ]
          },
          "metadata": {},
          "execution_count": 20
        }
      ]
    },
    {
      "cell_type": "code",
      "source": [
        "list_to_drop = []\n",
        "for col in num_cols + cat_cols + [target]:\n",
        "    if df[col].count() < 130000:\n",
        "        list_to_drop.append(col)\n",
        "df2 = df.drop(list_to_drop, axis=1)"
      ],
      "metadata": {
        "id": "aJbNDAygqsx8"
      },
      "execution_count": null,
      "outputs": []
    },
    {
      "cell_type": "code",
      "source": [
        "df2[df2['CurrentStatus'] == 1].shape"
      ],
      "metadata": {
        "id": "PDM_Gk3Tp7MK",
        "colab": {
          "base_uri": "https://localhost:8080/"
        },
        "outputId": "bca0c866-6736-4478-e2d5-0518de36adac"
      },
      "execution_count": null,
      "outputs": [
        {
          "output_type": "execute_result",
          "data": {
            "text/plain": [
              "(1779, 34)"
            ]
          },
          "metadata": {},
          "execution_count": 22
        }
      ]
    },
    {
      "cell_type": "code",
      "source": [
        "df2[df2['CurrentStatus'] == 0].count()"
      ],
      "metadata": {
        "id": "Lpdtlc84pggI",
        "colab": {
          "base_uri": "https://localhost:8080/"
        },
        "outputId": "264bea06-c3ed-4eec-ce56-9f38a1a7b096"
      },
      "execution_count": null,
      "outputs": [
        {
          "output_type": "execute_result",
          "data": {
            "text/plain": [
              "PermitNumber                           181934\n",
              "PermitType                             181934\n",
              "PermitTypeDefinition                   181934\n",
              "PermitCreationDate                     181934\n",
              "Block                                  181934\n",
              "Lot                                    181934\n",
              "StreetNumber                           181934\n",
              "StreetName                             181934\n",
              "StreetSuffix                           179360\n",
              "Description                            181849\n",
              "CurrentStatus                          181934\n",
              "CurrentStatusDate                      181934\n",
              "FiledDate                              181934\n",
              "IssuedDate                             181153\n",
              "FirstConstructionDocumentDate          181131\n",
              "NumberofExistingStories                141161\n",
              "NumberofProposedStories                141118\n",
              "PermitExpirationDate                   144216\n",
              "EstimatedCost                          144884\n",
              "RevisedCost                            181880\n",
              "ExistingUse                            142717\n",
              "ExistingUnits                          133250\n",
              "ProposedUse                            141522\n",
              "ProposedUnits                          133778\n",
              "Plansets                               145015\n",
              "ExistingConstructionType               140635\n",
              "ExistingConstructionTypeDescription    140635\n",
              "ProposedConstructionType               140861\n",
              "ProposedConstructionTypeDescription    140861\n",
              "SupervisorDistrict                     180291\n",
              "Neighborhoods-AnalysisBoundaries       180284\n",
              "Zipcode                                180292\n",
              "Location                               180307\n",
              "RecordID                               181934\n",
              "dtype: int64"
            ]
          },
          "metadata": {},
          "execution_count": 23
        }
      ]
    },
    {
      "cell_type": "code",
      "source": [
        "df2[df2[target] == 1].info()"
      ],
      "metadata": {
        "colab": {
          "base_uri": "https://localhost:8080/"
        },
        "id": "dgCWNpSASvNX",
        "outputId": "d6cae575-69ca-4a08-cba1-3b913c9a84ab"
      },
      "execution_count": null,
      "outputs": [
        {
          "output_type": "stream",
          "name": "stdout",
          "text": [
            "<class 'pandas.core.frame.DataFrame'>\n",
            "Int64Index: 1779 entries, 90 to 197604\n",
            "Data columns (total 34 columns):\n",
            " #   Column                               Non-Null Count  Dtype  \n",
            "---  ------                               --------------  -----  \n",
            " 0   PermitNumber                         1779 non-null   object \n",
            " 1   PermitType                           1779 non-null   int64  \n",
            " 2   PermitTypeDefinition                 1779 non-null   object \n",
            " 3   PermitCreationDate                   1779 non-null   object \n",
            " 4   Block                                1779 non-null   object \n",
            " 5   Lot                                  1779 non-null   object \n",
            " 6   StreetNumber                         1779 non-null   int64  \n",
            " 7   StreetName                           1779 non-null   object \n",
            " 8   StreetSuffix                         1771 non-null   object \n",
            " 9   Description                          1775 non-null   object \n",
            " 10  CurrentStatus                        1779 non-null   int64  \n",
            " 11  CurrentStatusDate                    1779 non-null   object \n",
            " 12  FiledDate                            1779 non-null   object \n",
            " 13  IssuedDate                           1436 non-null   object \n",
            " 14  FirstConstructionDocumentDate        1436 non-null   object \n",
            " 15  NumberofExistingStories              1718 non-null   float64\n",
            " 16  NumberofProposedStories              1629 non-null   float64\n",
            " 17  PermitExpirationDate                 1421 non-null   object \n",
            " 18  EstimatedCost                        1764 non-null   float64\n",
            " 19  RevisedCost                          1451 non-null   float64\n",
            " 20  ExistingUse                          1729 non-null   object \n",
            " 21  ExistingUnits                        1628 non-null   float64\n",
            " 22  ProposedUse                          1634 non-null   object \n",
            " 23  ProposedUnits                        1559 non-null   float64\n",
            " 24  Plansets                             1764 non-null   float64\n",
            " 25  ExistingConstructionType             1712 non-null   float64\n",
            " 26  ExistingConstructionTypeDescription  1712 non-null   object \n",
            " 27  ProposedConstructionType             1625 non-null   float64\n",
            " 28  ProposedConstructionTypeDescription  1625 non-null   object \n",
            " 29  SupervisorDistrict                   1770 non-null   float64\n",
            " 30  Neighborhoods-AnalysisBoundaries     1770 non-null   object \n",
            " 31  Zipcode                              1770 non-null   float64\n",
            " 32  Location                             1770 non-null   object \n",
            " 33  RecordID                             1779 non-null   int64  \n",
            "dtypes: float64(11), int64(4), object(19)\n",
            "memory usage: 486.4+ KB\n"
          ]
        }
      ]
    },
    {
      "cell_type": "code",
      "source": [
        "df2[df3[target] == 0].info()"
      ],
      "metadata": {
        "colab": {
          "base_uri": "https://localhost:8080/"
        },
        "id": "YYHQ5wpny-kL",
        "outputId": "ed96f23c-e62f-4113-cd9d-685470a2363f"
      },
      "execution_count": null,
      "outputs": [
        {
          "output_type": "stream",
          "name": "stdout",
          "text": [
            "<class 'pandas.core.frame.DataFrame'>\n",
            "Int64Index: 181934 entries, 1 to 198899\n",
            "Data columns (total 34 columns):\n",
            " #   Column                               Non-Null Count   Dtype  \n",
            "---  ------                               --------------   -----  \n",
            " 0   PermitNumber                         181934 non-null  object \n",
            " 1   PermitType                           181934 non-null  int64  \n",
            " 2   PermitTypeDefinition                 181934 non-null  object \n",
            " 3   PermitCreationDate                   181934 non-null  object \n",
            " 4   Block                                181934 non-null  object \n",
            " 5   Lot                                  181934 non-null  object \n",
            " 6   StreetNumber                         181934 non-null  int64  \n",
            " 7   StreetName                           181934 non-null  object \n",
            " 8   StreetSuffix                         179360 non-null  object \n",
            " 9   Description                          181849 non-null  object \n",
            " 10  CurrentStatus                        181934 non-null  int64  \n",
            " 11  CurrentStatusDate                    181934 non-null  object \n",
            " 12  FiledDate                            181934 non-null  object \n",
            " 13  IssuedDate                           181153 non-null  object \n",
            " 14  FirstConstructionDocumentDate        181131 non-null  object \n",
            " 15  NumberofExistingStories              141161 non-null  float64\n",
            " 16  NumberofProposedStories              141118 non-null  float64\n",
            " 17  PermitExpirationDate                 144216 non-null  object \n",
            " 18  EstimatedCost                        144884 non-null  float64\n",
            " 19  RevisedCost                          181880 non-null  float64\n",
            " 20  ExistingUse                          142717 non-null  object \n",
            " 21  ExistingUnits                        133250 non-null  float64\n",
            " 22  ProposedUse                          141522 non-null  object \n",
            " 23  ProposedUnits                        133778 non-null  float64\n",
            " 24  Plansets                             145015 non-null  float64\n",
            " 25  ExistingConstructionType             140635 non-null  float64\n",
            " 26  ExistingConstructionTypeDescription  140635 non-null  object \n",
            " 27  ProposedConstructionType             140861 non-null  float64\n",
            " 28  ProposedConstructionTypeDescription  140861 non-null  object \n",
            " 29  SupervisorDistrict                   180291 non-null  float64\n",
            " 30  Neighborhoods-AnalysisBoundaries     180284 non-null  object \n",
            " 31  Zipcode                              180292 non-null  float64\n",
            " 32  Location                             180307 non-null  object \n",
            " 33  RecordID                             181934 non-null  int64  \n",
            "dtypes: float64(11), int64(4), object(19)\n",
            "memory usage: 48.6+ MB\n"
          ]
        }
      ]
    },
    {
      "cell_type": "code",
      "source": [
        "df2.info()"
      ],
      "metadata": {
        "id": "xxHsyNAUpgi5",
        "colab": {
          "base_uri": "https://localhost:8080/"
        },
        "outputId": "ced6bb47-86d7-4d42-8c25-fb0729f88dcc"
      },
      "execution_count": null,
      "outputs": [
        {
          "output_type": "stream",
          "name": "stdout",
          "text": [
            "<class 'pandas.core.frame.DataFrame'>\n",
            "Int64Index: 183713 entries, 1 to 198899\n",
            "Data columns (total 34 columns):\n",
            " #   Column                               Non-Null Count   Dtype  \n",
            "---  ------                               --------------   -----  \n",
            " 0   PermitNumber                         183713 non-null  object \n",
            " 1   PermitType                           183713 non-null  int64  \n",
            " 2   PermitTypeDefinition                 183713 non-null  object \n",
            " 3   PermitCreationDate                   183713 non-null  object \n",
            " 4   Block                                183713 non-null  object \n",
            " 5   Lot                                  183713 non-null  object \n",
            " 6   StreetNumber                         183713 non-null  int64  \n",
            " 7   StreetName                           183713 non-null  object \n",
            " 8   StreetSuffix                         181131 non-null  object \n",
            " 9   Description                          183624 non-null  object \n",
            " 10  CurrentStatus                        183713 non-null  int64  \n",
            " 11  CurrentStatusDate                    183713 non-null  object \n",
            " 12  FiledDate                            183713 non-null  object \n",
            " 13  IssuedDate                           182589 non-null  object \n",
            " 14  FirstConstructionDocumentDate        182567 non-null  object \n",
            " 15  NumberofExistingStories              142879 non-null  float64\n",
            " 16  NumberofProposedStories              142747 non-null  float64\n",
            " 17  PermitExpirationDate                 145637 non-null  object \n",
            " 18  EstimatedCost                        146648 non-null  float64\n",
            " 19  RevisedCost                          183331 non-null  float64\n",
            " 20  ExistingUse                          144446 non-null  object \n",
            " 21  ExistingUnits                        134878 non-null  float64\n",
            " 22  ProposedUse                          143156 non-null  object \n",
            " 23  ProposedUnits                        135337 non-null  float64\n",
            " 24  Plansets                             146779 non-null  float64\n",
            " 25  ExistingConstructionType             142347 non-null  float64\n",
            " 26  ExistingConstructionTypeDescription  142347 non-null  object \n",
            " 27  ProposedConstructionType             142486 non-null  float64\n",
            " 28  ProposedConstructionTypeDescription  142486 non-null  object \n",
            " 29  SupervisorDistrict                   182061 non-null  float64\n",
            " 30  Neighborhoods-AnalysisBoundaries     182054 non-null  object \n",
            " 31  Zipcode                              182062 non-null  float64\n",
            " 32  Location                             182077 non-null  object \n",
            " 33  RecordID                             183713 non-null  int64  \n",
            "dtypes: float64(11), int64(4), object(19)\n",
            "memory usage: 49.1+ MB\n"
          ]
        }
      ]
    },
    {
      "cell_type": "code",
      "source": [
        "df3 = df2.drop(['PermitNumber', 'PermitType', 'StreetSuffix', 'PermitExpirationDate', 'ExistingConstructionType', 'ProposedConstructionType', 'Zipcode', 'Location', 'RecordID'], axis=1)"
      ],
      "metadata": {
        "id": "nO2AOS61RWJB"
      },
      "execution_count": null,
      "outputs": []
    },
    {
      "cell_type": "code",
      "source": [
        "df3.info()"
      ],
      "metadata": {
        "colab": {
          "base_uri": "https://localhost:8080/"
        },
        "id": "QcTu6AkiRWLY",
        "outputId": "20ad2956-f17a-4c3c-e7d9-2d900731f895"
      },
      "execution_count": null,
      "outputs": [
        {
          "output_type": "stream",
          "name": "stdout",
          "text": [
            "<class 'pandas.core.frame.DataFrame'>\n",
            "Int64Index: 183713 entries, 1 to 198899\n",
            "Data columns (total 25 columns):\n",
            " #   Column                               Non-Null Count   Dtype  \n",
            "---  ------                               --------------   -----  \n",
            " 0   PermitTypeDefinition                 183713 non-null  object \n",
            " 1   PermitCreationDate                   183713 non-null  object \n",
            " 2   Block                                183713 non-null  object \n",
            " 3   Lot                                  183713 non-null  object \n",
            " 4   StreetNumber                         183713 non-null  int64  \n",
            " 5   StreetName                           183713 non-null  object \n",
            " 6   Description                          183624 non-null  object \n",
            " 7   CurrentStatus                        183713 non-null  int64  \n",
            " 8   CurrentStatusDate                    183713 non-null  object \n",
            " 9   FiledDate                            183713 non-null  object \n",
            " 10  IssuedDate                           182589 non-null  object \n",
            " 11  FirstConstructionDocumentDate        182567 non-null  object \n",
            " 12  NumberofExistingStories              142879 non-null  float64\n",
            " 13  NumberofProposedStories              142747 non-null  float64\n",
            " 14  EstimatedCost                        146648 non-null  float64\n",
            " 15  RevisedCost                          183331 non-null  float64\n",
            " 16  ExistingUse                          144446 non-null  object \n",
            " 17  ExistingUnits                        134878 non-null  float64\n",
            " 18  ProposedUse                          143156 non-null  object \n",
            " 19  ProposedUnits                        135337 non-null  float64\n",
            " 20  Plansets                             146779 non-null  float64\n",
            " 21  ExistingConstructionTypeDescription  142347 non-null  object \n",
            " 22  ProposedConstructionTypeDescription  142486 non-null  object \n",
            " 23  SupervisorDistrict                   182061 non-null  float64\n",
            " 24  Neighborhoods-AnalysisBoundaries     182054 non-null  object \n",
            "dtypes: float64(8), int64(2), object(15)\n",
            "memory usage: 36.4+ MB\n"
          ]
        }
      ]
    },
    {
      "cell_type": "code",
      "source": [
        "num_cols3 = [col for col in df3.columns if \"int\" in str(df3[col].dtype) or \"float\" in str(df3[col].dtype)]\n",
        "cat_cols3 = [col for col in df3.columns if \"object\" == str(df3[col].dtype) and col != \"CurrentStatus\"]\n",
        "print(num_cols3)\n",
        "print(cat_cols3)"
      ],
      "metadata": {
        "colab": {
          "base_uri": "https://localhost:8080/"
        },
        "id": "KRLr5IpKRWNe",
        "outputId": "62f023fd-5e0c-4598-eb93-78de93e767ae"
      },
      "execution_count": null,
      "outputs": [
        {
          "output_type": "stream",
          "name": "stdout",
          "text": [
            "['StreetNumber', 'CurrentStatus', 'NumberofExistingStories', 'NumberofProposedStories', 'EstimatedCost', 'RevisedCost', 'ExistingUnits', 'ProposedUnits', 'Plansets', 'SupervisorDistrict']\n",
            "['PermitTypeDefinition', 'PermitCreationDate', 'Block', 'Lot', 'StreetName', 'Description', 'CurrentStatusDate', 'FiledDate', 'IssuedDate', 'FirstConstructionDocumentDate', 'ExistingUse', 'ProposedUse', 'ExistingConstructionTypeDescription', 'ProposedConstructionTypeDescription', 'Neighborhoods-AnalysisBoundaries']\n"
          ]
        }
      ]
    },
    {
      "cell_type": "code",
      "source": [
        "sns.set(rc={'figure.figsize':(10,10)})\n",
        "sns.countplot(x=target, data=df3);"
      ],
      "metadata": {
        "colab": {
          "base_uri": "https://localhost:8080/",
          "height": 611
        },
        "id": "7O-kl8uxRWQA",
        "outputId": "32ec09fe-9ced-4319-d594-56020c32259d"
      },
      "execution_count": null,
      "outputs": [
        {
          "output_type": "display_data",
          "data": {
            "text/plain": [
              "<Figure size 720x720 with 1 Axes>"
            ],
            "image/png": "[encoded data removed]"
          },
          "metadata": {}
        }
      ]
    },
    {
      "cell_type": "code",
      "source": [
        "df3[target].value_counts() / df3.shape[0]"
      ],
      "metadata": {
        "colab": {
          "base_uri": "https://localhost:8080/"
        },
        "id": "n87Jr6suV5wp",
        "outputId": "e392db04-03f8-48a1-c908-a3f562414242"
      },
      "execution_count": null,
      "outputs": [
        {
          "output_type": "execute_result",
          "data": {
            "text/plain": [
              "0    0.990316\n",
              "1    0.009684\n",
              "Name: CurrentStatus, dtype: float64"
            ]
          },
          "metadata": {},
          "execution_count": 30
        }
      ]
    },
    {
      "cell_type": "code",
      "source": [
        "df3.info()"
      ],
      "metadata": {
        "colab": {
          "base_uri": "https://localhost:8080/"
        },
        "id": "_MDaKFPPRWSy",
        "outputId": "8281f6b0-e69b-4dc8-eed1-b924383ea6ef"
      },
      "execution_count": null,
      "outputs": [
        {
          "output_type": "stream",
          "name": "stdout",
          "text": [
            "<class 'pandas.core.frame.DataFrame'>\n",
            "Int64Index: 183713 entries, 1 to 198899\n",
            "Data columns (total 25 columns):\n",
            " #   Column                               Non-Null Count   Dtype  \n",
            "---  ------                               --------------   -----  \n",
            " 0   PermitTypeDefinition                 183713 non-null  object \n",
            " 1   PermitCreationDate                   183713 non-null  object \n",
            " 2   Block                                183713 non-null  object \n",
            " 3   Lot                                  183713 non-null  object \n",
            " 4   StreetNumber                         183713 non-null  int64  \n",
            " 5   StreetName                           183713 non-null  object \n",
            " 6   Description                          183624 non-null  object \n",
            " 7   CurrentStatus                        183713 non-null  int64  \n",
            " 8   CurrentStatusDate                    183713 non-null  object \n",
            " 9   FiledDate                            183713 non-null  object \n",
            " 10  IssuedDate                           182589 non-null  object \n",
            " 11  FirstConstructionDocumentDate        182567 non-null  object \n",
            " 12  NumberofExistingStories              142879 non-null  float64\n",
            " 13  NumberofProposedStories              142747 non-null  float64\n",
            " 14  EstimatedCost                        146648 non-null  float64\n",
            " 15  RevisedCost                          183331 non-null  float64\n",
            " 16  ExistingUse                          144446 non-null  object \n",
            " 17  ExistingUnits                        134878 non-null  float64\n",
            " 18  ProposedUse                          143156 non-null  object \n",
            " 19  ProposedUnits                        135337 non-null  float64\n",
            " 20  Plansets                             146779 non-null  float64\n",
            " 21  ExistingConstructionTypeDescription  142347 non-null  object \n",
            " 22  ProposedConstructionTypeDescription  142486 non-null  object \n",
            " 23  SupervisorDistrict                   182061 non-null  float64\n",
            " 24  Neighborhoods-AnalysisBoundaries     182054 non-null  object \n",
            "dtypes: float64(8), int64(2), object(15)\n",
            "memory usage: 36.4+ MB\n"
          ]
        }
      ]
    },
    {
      "cell_type": "code",
      "source": [
        "df3.head()"
      ],
      "metadata": {
        "colab": {
          "base_uri": "https://localhost:8080/",
          "height": 357
        },
        "id": "G6fcejozW2b4",
        "outputId": "aaa84027-a93b-4cf2-c08e-1ddf7a20bbf4"
      },
      "execution_count": null,
      "outputs": [
        {
          "output_type": "execute_result",
          "data": {
            "text/plain": [
              "     PermitTypeDefinition PermitCreationDate Block  Lot  StreetNumber  \\\n",
              "1            sign - erect         04/19/2016  0306  007           440   \n",
              "3  otc alterations permit         11/07/2016  0156  011          1230   \n",
              "4             demolitions         11/28/2016  0342  001           950   \n",
              "5  otc alterations permit         06/14/2017  4105  009           800   \n",
              "6  otc alterations permit         06/30/2017  1739  020          1291   \n",
              "\n",
              "  StreetName                                        Description  \\\n",
              "1      Geary            remove (e) awning and associated signs.   \n",
              "3    Pacific           repair dryrot & stucco at front of bldg.   \n",
              "4     Market  demolish retail/office/commercial 3-story buil...   \n",
              "5    Indiana                                          evac maps   \n",
              "6       11th                                         re-roofing   \n",
              "\n",
              "   CurrentStatus CurrentStatusDate   FiledDate  IssuedDate  \\\n",
              "1              0        08/03/2017  04/19/2016  08/03/2017   \n",
              "3              0        07/24/2017  11/07/2016  07/18/2017   \n",
              "4              0        12/01/2017  11/28/2016  12/01/2017   \n",
              "5              0        07/06/2017  06/14/2017  07/06/2017   \n",
              "6              0        07/12/2017  06/30/2017  06/30/2017   \n",
              "\n",
              "  FirstConstructionDocumentDate  NumberofExistingStories  \\\n",
              "1                    08/03/2017                      7.0   \n",
              "3                    07/18/2017                      2.0   \n",
              "4                    11/20/2017                      3.0   \n",
              "5                    07/06/2017                      5.0   \n",
              "6                    06/30/2017                      3.0   \n",
              "\n",
              "   NumberofProposedStories  EstimatedCost  RevisedCost          ExistingUse  \\\n",
              "1                      NaN            1.0        500.0  tourist hotel/motel   \n",
              "3                      2.0         2000.0       2000.0    1 family dwelling   \n",
              "4                      NaN       100000.0     100000.0         retail sales   \n",
              "5                      5.0         4000.0       4000.0           apartments   \n",
              "6                      3.0        12000.0      12000.0           apartments   \n",
              "\n",
              "   ExistingUnits        ProposedUse  ProposedUnits  Plansets  \\\n",
              "1            NaN                NaN            NaN       2.0   \n",
              "3            1.0  1 family dwelling            1.0       2.0   \n",
              "4            NaN                NaN            NaN       2.0   \n",
              "5          326.0         apartments          326.0       2.0   \n",
              "6            5.0         apartments            5.0       0.0   \n",
              "\n",
              "  ExistingConstructionTypeDescription ProposedConstructionTypeDescription  \\\n",
              "1                       constr type 3                                 NaN   \n",
              "3                      wood frame (5)                      wood frame (5)   \n",
              "4                       constr type 3                                 NaN   \n",
              "5                       constr type 1                       constr type 1   \n",
              "6                      wood frame (5)                      wood frame (5)   \n",
              "\n",
              "   SupervisorDistrict Neighborhoods-AnalysisBoundaries  \n",
              "1                 3.0                       Tenderloin  \n",
              "3                 3.0                         Nob Hill  \n",
              "4                 6.0                       Tenderloin  \n",
              "5                10.0                     Potrero Hill  \n",
              "6                 5.0                     Inner Sunset  "
            ],
            "text/html": [
              "\n",
              "  <div id=\"df-6ba33048-26b1-4e31-866d-b21255ae71e7\">\n",
              "    <div class=\"colab-df-container\">\n",
              "      <div>\n",
              "<style scoped>\n",
              "    .dataframe tbody tr th:only-of-type {\n",
              "        vertical-align: middle;\n",
              "    }\n",
              "\n",
              "    .dataframe tbody tr th {\n",
              "        vertical-align: top;\n",
              "    }\n",
              "\n",
              "    .dataframe thead th {\n",
              "        text-align: right;\n",
              "    }\n",
              "</style>\n",
              "<table border=\"1\" class=\"dataframe\">\n",
              "  <thead>\n",
              "    <tr style=\"text-align: right;\">\n",
              "      <th></th>\n",
              "      <th>PermitTypeDefinition</th>\n",
              "      <th>PermitCreationDate</th>\n",
              "      <th>Block</th>\n",
              "      <th>Lot</th>\n",
              "      <th>StreetNumber</th>\n",
              "      <th>StreetName</th>\n",
              "      <th>Description</th>\n",
              "      <th>CurrentStatus</th>\n",
              "      <th>CurrentStatusDate</th>\n",
              "      <th>FiledDate</th>\n",
              "      <th>IssuedDate</th>\n",
              "      <th>FirstConstructionDocumentDate</th>\n",
              "      <th>NumberofExistingStories</th>\n",
              "      <th>NumberofProposedStories</th>\n",
              "      <th>EstimatedCost</th>\n",
              "      <th>RevisedCost</th>\n",
              "      <th>ExistingUse</th>\n",
              "      <th>ExistingUnits</th>\n",
              "      <th>ProposedUse</th>\n",
              "      <th>ProposedUnits</th>\n",
              "      <th>Plansets</th>\n",
              "      <th>ExistingConstructionTypeDescription</th>\n",
              "      <th>ProposedConstructionTypeDescription</th>\n",
              "      <th>SupervisorDistrict</th>\n",
              "      <th>Neighborhoods-AnalysisBoundaries</th>\n",
              "    </tr>\n",
              "  </thead>\n",
              "  <tbody>\n",
              "    <tr>\n",
              "      <th>1</th>\n",
              "      <td>sign - erect</td>\n",
              "      <td>04/19/2016</td>\n",
              "      <td>0306</td>\n",
              "      <td>007</td>\n",
              "      <td>440</td>\n",
              "      <td>Geary</td>\n",
              "      <td>remove (e) awning and associated signs.</td>\n",
              "      <td>0</td>\n",
              "      <td>08/03/2017</td>\n",
              "      <td>04/19/2016</td>\n",
              "      <td>08/03/2017</td>\n",
              "      <td>08/03/2017</td>\n",
              "      <td>7.0</td>\n",
              "      <td>NaN</td>\n",
              "      <td>1.0</td>\n",
              "      <td>500.0</td>\n",
              "      <td>tourist hotel/motel</td>\n",
              "      <td>NaN</td>\n",
              "      <td>NaN</td>\n",
              "      <td>NaN</td>\n",
              "      <td>2.0</td>\n",
              "      <td>constr type 3</td>\n",
              "      <td>NaN</td>\n",
              "      <td>3.0</td>\n",
              "      <td>Tenderloin</td>\n",
              "    </tr>\n",
              "    <tr>\n",
              "      <th>3</th>\n",
              "      <td>otc alterations permit</td>\n",
              "      <td>11/07/2016</td>\n",
              "      <td>0156</td>\n",
              "      <td>011</td>\n",
              "      <td>1230</td>\n",
              "      <td>Pacific</td>\n",
              "      <td>repair dryrot &amp; stucco at front of bldg.</td>\n",
              "      <td>0</td>\n",
              "      <td>07/24/2017</td>\n",
              "      <td>11/07/2016</td>\n",
              "      <td>07/18/2017</td>\n",
              "      <td>07/18/2017</td>\n",
              "      <td>2.0</td>\n",
              "      <td>2.0</td>\n",
              "      <td>2000.0</td>\n",
              "      <td>2000.0</td>\n",
              "      <td>1 family dwelling</td>\n",
              "      <td>1.0</td>\n",
              "      <td>1 family dwelling</td>\n",
              "      <td>1.0</td>\n",
              "      <td>2.0</td>\n",
              "      <td>wood frame (5)</td>\n",
              "      <td>wood frame (5)</td>\n",
              "      <td>3.0</td>\n",
              "      <td>Nob Hill</td>\n",
              "    </tr>\n",
              "    <tr>\n",
              "      <th>4</th>\n",
              "      <td>demolitions</td>\n",
              "      <td>11/28/2016</td>\n",
              "      <td>0342</td>\n",
              "      <td>001</td>\n",
              "      <td>950</td>\n",
              "      <td>Market</td>\n",
              "      <td>demolish retail/office/commercial 3-story buil...</td>\n",
              "      <td>0</td>\n",
              "      <td>12/01/2017</td>\n",
              "      <td>11/28/2016</td>\n",
              "      <td>12/01/2017</td>\n",
              "      <td>11/20/2017</td>\n",
              "      <td>3.0</td>\n",
              "      <td>NaN</td>\n",
              "      <td>100000.0</td>\n",
              "      <td>100000.0</td>\n",
              "      <td>retail sales</td>\n",
              "      <td>NaN</td>\n",
              "      <td>NaN</td>\n",
              "      <td>NaN</td>\n",
              "      <td>2.0</td>\n",
              "      <td>constr type 3</td>\n",
              "      <td>NaN</td>\n",
              "      <td>6.0</td>\n",
              "      <td>Tenderloin</td>\n",
              "    </tr>\n",
              "    <tr>\n",
              "      <th>5</th>\n",
              "      <td>otc alterations permit</td>\n",
              "      <td>06/14/2017</td>\n",
              "      <td>4105</td>\n",
              "      <td>009</td>\n",
              "      <td>800</td>\n",
              "      <td>Indiana</td>\n",
              "      <td>evac maps</td>\n",
              "      <td>0</td>\n",
              "      <td>07/06/2017</td>\n",
              "      <td>06/14/2017</td>\n",
              "      <td>07/06/2017</td>\n",
              "      <td>07/06/2017</td>\n",
              "      <td>5.0</td>\n",
              "      <td>5.0</td>\n",
              "      <td>4000.0</td>\n",
              "      <td>4000.0</td>\n",
              "      <td>apartments</td>\n",
              "      <td>326.0</td>\n",
              "      <td>apartments</td>\n",
              "      <td>326.0</td>\n",
              "      <td>2.0</td>\n",
              "      <td>constr type 1</td>\n",
              "      <td>constr type 1</td>\n",
              "      <td>10.0</td>\n",
              "      <td>Potrero Hill</td>\n",
              "    </tr>\n",
              "    <tr>\n",
              "      <th>6</th>\n",
              "      <td>otc alterations permit</td>\n",
              "      <td>06/30/2017</td>\n",
              "      <td>1739</td>\n",
              "      <td>020</td>\n",
              "      <td>1291</td>\n",
              "      <td>11th</td>\n",
              "      <td>re-roofing</td>\n",
              "      <td>0</td>\n",
              "      <td>07/12/2017</td>\n",
              "      <td>06/30/2017</td>\n",
              "      <td>06/30/2017</td>\n",
              "      <td>06/30/2017</td>\n",
              "      <td>3.0</td>\n",
              "      <td>3.0</td>\n",
              "      <td>12000.0</td>\n",
              "      <td>12000.0</td>\n",
              "      <td>apartments</td>\n",
              "      <td>5.0</td>\n",
              "      <td>apartments</td>\n",
              "      <td>5.0</td>\n",
              "      <td>0.0</td>\n",
              "      <td>wood frame (5)</td>\n",
              "      <td>wood frame (5)</td>\n",
              "      <td>5.0</td>\n",
              "      <td>Inner Sunset</td>\n",
              "    </tr>\n",
              "  </tbody>\n",
              "</table>\n",
              "</div>\n",
              "      <button class=\"colab-df-convert\" onclick=\"convertToInteractive('df-6ba33048-26b1-4e31-866d-b21255ae71e7')\"\n",
              "              title=\"Convert this dataframe to an interactive table.\"\n",
              "              style=\"display:none;\">\n",
              "        \n",
              "  <svg xmlns=\"http://www.w3.org/2000/svg\" height=\"24px\"viewBox=\"0 0 24 24\"\n",
              "       width=\"24px\">\n",
              "    <path d=\"M0 0h24v24H0V0z\" fill=\"none\"/>\n",
              "    <path d=\"M18.56 5.44l.94 2.06.94-2.06 2.06-.94-2.06-.94-.94-2.06-.94 2.06-2.06.94zm-11 1L8.5 8.5l.94-2.06 2.06-.94-2.06-.94L8.5 2.5l-.94 2.06-2.06.94zm10 10l.94 2.06.94-2.06 2.06-.94-2.06-.94-.94-2.06-.94 2.06-2.06.94z\"/><path d=\"M17.41 7.96l-1.37-1.37c-.4-.4-.92-.59-1.43-.59-.52 0-1.04.2-1.43.59L10.3 9.45l-7.72 7.72c-.78.78-.78 2.05 0 2.83L4 21.41c.39.39.9.59 1.41.59.51 0 1.02-.2 1.41-.59l7.78-7.78 2.81-2.81c.8-.78.8-2.07 0-2.86zM5.41 20L4 18.59l7.72-7.72 1.47 1.35L5.41 20z\"/>\n",
              "  </svg>\n",
              "      </button>\n",
              "      \n",
              "  <style>\n",
              "    .colab-df-container {\n",
              "      display:flex;\n",
              "      flex-wrap:wrap;\n",
              "      gap: 12px;\n",
              "    }\n",
              "\n",
              "    .colab-df-convert {\n",
              "      background-color: #E8F0FE;\n",
              "      border: none;\n",
              "      border-radius: 50%;\n",
              "      cursor: pointer;\n",
              "      display: none;\n",
              "      fill: #1967D2;\n",
              "      height: 32px;\n",
              "      padding: 0 0 0 0;\n",
              "      width: 32px;\n",
              "    }\n",
              "\n",
              "    .colab-df-convert:hover {\n",
              "      background-color: #E2EBFA;\n",
              "      box-shadow: 0px 1px 2px rgba(60, 64, 67, 0.3), 0px 1px 3px 1px rgba(60, 64, 67, 0.15);\n",
              "      fill: #174EA6;\n",
              "    }\n",
              "\n",
              "    [theme=dark] .colab-df-convert {\n",
              "      background-color: #3B4455;\n",
              "      fill: #D2E3FC;\n",
              "    }\n",
              "\n",
              "    [theme=dark] .colab-df-convert:hover {\n",
              "      background-color: #434B5C;\n",
              "      box-shadow: 0px 1px 3px 1px rgba(0, 0, 0, 0.15);\n",
              "      filter: drop-shadow(0px 1px 2px rgba(0, 0, 0, 0.3));\n",
              "      fill: #FFFFFF;\n",
              "    }\n",
              "  </style>\n",
              "\n",
              "      <script>\n",
              "        const buttonEl =\n",
              "          document.querySelector('#df-6ba33048-26b1-4e31-866d-b21255ae71e7 button.colab-df-convert');\n",
              "        buttonEl.style.display =\n",
              "          google.colab.kernel.accessAllowed ? 'block' : 'none';\n",
              "\n",
              "        async function convertToInteractive(key) {\n",
              "          const element = document.querySelector('#df-6ba33048-26b1-4e31-866d-b21255ae71e7');\n",
              "          const dataTable =\n",
              "            await google.colab.kernel.invokeFunction('convertToInteractive',\n",
              "                                                     [key], {});\n",
              "          if (!dataTable) return;\n",
              "\n",
              "          const docLinkHtml = 'Like what you see? Visit the ' +\n",
              "            '<a target=\"_blank\" href=https://colab.research.google.com/notebooks/data_table.ipynb>data table notebook</a>'\n",
              "            + ' to learn more about interactive tables.';\n",
              "          element.innerHTML = '';\n",
              "          dataTable['output_type'] = 'display_data';\n",
              "          await google.colab.output.renderOutput(dataTable, element);\n",
              "          const docLink = document.createElement('div');\n",
              "          docLink.innerHTML = docLinkHtml;\n",
              "          element.appendChild(docLink);\n",
              "        }\n",
              "      </script>\n",
              "    </div>\n",
              "  </div>\n",
              "  "
            ]
          },
          "metadata": {},
          "execution_count": 32
        }
      ]
    },
    {
      "cell_type": "code",
      "source": [
        "df3['StreetNumber_int'] = df3.StreetNumber.astype('int64')"
      ],
      "metadata": {
        "id": "d7yi7B4oW2ep"
      },
      "execution_count": null,
      "outputs": []
    },
    {
      "cell_type": "code",
      "source": [
        "sns.scatterplot(data=df3, x=\"StreetNumber_int\", y=target)"
      ],
      "metadata": {
        "id": "_pVUirG_ZZOy",
        "colab": {
          "base_uri": "https://localhost:8080/",
          "height": 628
        },
        "outputId": "145df8ec-6dd2-4949-d1bf-e9fac3039113"
      },
      "execution_count": null,
      "outputs": [
        {
          "output_type": "execute_result",
          "data": {
            "text/plain": [
              "<Axes: xlabel='StreetNumber_int', ylabel='CurrentStatus'>"
            ]
          },
          "metadata": {},
          "execution_count": 34
        },
        {
          "output_type": "display_data",
          "data": {
            "text/plain": [
              "<Figure size 720x720 with 1 Axes>"
            ],
            "image/png": "[encoded data removed]"
          },
          "metadata": {}
        }
      ]
    },
    {
      "cell_type": "code",
      "source": [
        "sns.set(rc={'figure.figsize':(27,10)})\n",
        "\n",
        "corr_matrix = df3[[\"StreetNumber_int\"] + [target]].corr()\n",
        "sns.heatmap(corr_matrix, vmin=-1, vmax=1, annot=True);"
      ],
      "metadata": {
        "id": "bRhSMONrZZQ1",
        "colab": {
          "base_uri": "https://localhost:8080/",
          "height": 599
        },
        "outputId": "653b9f1b-0749-4d0c-ced5-7acacef91eb1"
      },
      "execution_count": null,
      "outputs": [
        {
          "output_type": "display_data",
          "data": {
            "text/plain": [
              "<Figure size 1944x720 with 2 Axes>"
            ],
            "image/png": "[encoded data removed]"
          },
          "metadata": {}
        }
      ]
    },
    {
      "cell_type": "code",
      "source": [
        "columns_to_show1 = ['Block', 'Lot', 'StreetNumber', 'StreetName']\n",
        "columns_to_show = ['StreetName']\n",
        "\n",
        "df3.groupby([target])[columns_to_show].describe()"
      ],
      "metadata": {
        "colab": {
          "base_uri": "https://localhost:8080/",
          "height": 175
        },
        "id": "JEFuWqPxZZTn",
        "outputId": "9511dcba-1abb-48fd-feab-ab4d6db2ad0e"
      },
      "execution_count": null,
      "outputs": [
        {
          "output_type": "execute_result",
          "data": {
            "text/plain": [
              "              StreetName                      \n",
              "                   count unique      top  freq\n",
              "CurrentStatus                                 \n",
              "0                 181934   1689   Market  5047\n",
              "1                   1779    503  Mission    45"
            ],
            "text/html": [
              "\n",
              "  <div id=\"df-eaf69548-a254-4065-98e1-27786fa360b1\">\n",
              "    <div class=\"colab-df-container\">\n",
              "      <div>\n",
              "<style scoped>\n",
              "    .dataframe tbody tr th:only-of-type {\n",
              "        vertical-align: middle;\n",
              "    }\n",
              "\n",
              "    .dataframe tbody tr th {\n",
              "        vertical-align: top;\n",
              "    }\n",
              "\n",
              "    .dataframe thead tr th {\n",
              "        text-align: left;\n",
              "    }\n",
              "\n",
              "    .dataframe thead tr:last-of-type th {\n",
              "        text-align: right;\n",
              "    }\n",
              "</style>\n",
              "<table border=\"1\" class=\"dataframe\">\n",
              "  <thead>\n",
              "    <tr>\n",
              "      <th></th>\n",
              "      <th colspan=\"4\" halign=\"left\">StreetName</th>\n",
              "    </tr>\n",
              "    <tr>\n",
              "      <th></th>\n",
              "      <th>count</th>\n",
              "      <th>unique</th>\n",
              "      <th>top</th>\n",
              "      <th>freq</th>\n",
              "    </tr>\n",
              "    <tr>\n",
              "      <th>CurrentStatus</th>\n",
              "      <th></th>\n",
              "      <th></th>\n",
              "      <th></th>\n",
              "      <th></th>\n",
              "    </tr>\n",
              "  </thead>\n",
              "  <tbody>\n",
              "    <tr>\n",
              "      <th>0</th>\n",
              "      <td>181934</td>\n",
              "      <td>1689</td>\n",
              "      <td>Market</td>\n",
              "      <td>5047</td>\n",
              "    </tr>\n",
              "    <tr>\n",
              "      <th>1</th>\n",
              "      <td>1779</td>\n",
              "      <td>503</td>\n",
              "      <td>Mission</td>\n",
              "      <td>45</td>\n",
              "    </tr>\n",
              "  </tbody>\n",
              "</table>\n",
              "</div>\n",
              "      <button class=\"colab-df-convert\" onclick=\"convertToInteractive('df-eaf69548-a254-4065-98e1-27786fa360b1')\"\n",
              "              title=\"Convert this dataframe to an interactive table.\"\n",
              "              style=\"display:none;\">\n",
              "        \n",
              "  <svg xmlns=\"http://www.w3.org/2000/svg\" height=\"24px\"viewBox=\"0 0 24 24\"\n",
              "       width=\"24px\">\n",
              "    <path d=\"M0 0h24v24H0V0z\" fill=\"none\"/>\n",
              "    <path d=\"M18.56 5.44l.94 2.06.94-2.06 2.06-.94-2.06-.94-.94-2.06-.94 2.06-2.06.94zm-11 1L8.5 8.5l.94-2.06 2.06-.94-2.06-.94L8.5 2.5l-.94 2.06-2.06.94zm10 10l.94 2.06.94-2.06 2.06-.94-2.06-.94-.94-2.06-.94 2.06-2.06.94z\"/><path d=\"M17.41 7.96l-1.37-1.37c-.4-.4-.92-.59-1.43-.59-.52 0-1.04.2-1.43.59L10.3 9.45l-7.72 7.72c-.78.78-.78 2.05 0 2.83L4 21.41c.39.39.9.59 1.41.59.51 0 1.02-.2 1.41-.59l7.78-7.78 2.81-2.81c.8-.78.8-2.07 0-2.86zM5.41 20L4 18.59l7.72-7.72 1.47 1.35L5.41 20z\"/>\n",
              "  </svg>\n",
              "      </button>\n",
              "      \n",
              "  <style>\n",
              "    .colab-df-container {\n",
              "      display:flex;\n",
              "      flex-wrap:wrap;\n",
              "      gap: 12px;\n",
              "    }\n",
              "\n",
              "    .colab-df-convert {\n",
              "      background-color: #E8F0FE;\n",
              "      border: none;\n",
              "      border-radius: 50%;\n",
              "      cursor: pointer;\n",
              "      display: none;\n",
              "      fill: #1967D2;\n",
              "      height: 32px;\n",
              "      padding: 0 0 0 0;\n",
              "      width: 32px;\n",
              "    }\n",
              "\n",
              "    .colab-df-convert:hover {\n",
              "      background-color: #E2EBFA;\n",
              "      box-shadow: 0px 1px 2px rgba(60, 64, 67, 0.3), 0px 1px 3px 1px rgba(60, 64, 67, 0.15);\n",
              "      fill: #174EA6;\n",
              "    }\n",
              "\n",
              "    [theme=dark] .colab-df-convert {\n",
              "      background-color: #3B4455;\n",
              "      fill: #D2E3FC;\n",
              "    }\n",
              "\n",
              "    [theme=dark] .colab-df-convert:hover {\n",
              "      background-color: #434B5C;\n",
              "      box-shadow: 0px 1px 3px 1px rgba(0, 0, 0, 0.15);\n",
              "      filter: drop-shadow(0px 1px 2px rgba(0, 0, 0, 0.3));\n",
              "      fill: #FFFFFF;\n",
              "    }\n",
              "  </style>\n",
              "\n",
              "      <script>\n",
              "        const buttonEl =\n",
              "          document.querySelector('#df-eaf69548-a254-4065-98e1-27786fa360b1 button.colab-df-convert');\n",
              "        buttonEl.style.display =\n",
              "          google.colab.kernel.accessAllowed ? 'block' : 'none';\n",
              "\n",
              "        async function convertToInteractive(key) {\n",
              "          const element = document.querySelector('#df-eaf69548-a254-4065-98e1-27786fa360b1');\n",
              "          const dataTable =\n",
              "            await google.colab.kernel.invokeFunction('convertToInteractive',\n",
              "                                                     [key], {});\n",
              "          if (!dataTable) return;\n",
              "\n",
              "          const docLinkHtml = 'Like what you see? Visit the ' +\n",
              "            '<a target=\"_blank\" href=https://colab.research.google.com/notebooks/data_table.ipynb>data table notebook</a>'\n",
              "            + ' to learn more about interactive tables.';\n",
              "          element.innerHTML = '';\n",
              "          dataTable['output_type'] = 'display_data';\n",
              "          await google.colab.output.renderOutput(dataTable, element);\n",
              "          const docLink = document.createElement('div');\n",
              "          docLink.innerHTML = docLinkHtml;\n",
              "          element.appendChild(docLink);\n",
              "        }\n",
              "      </script>\n",
              "    </div>\n",
              "  </div>\n",
              "  "
            ]
          },
          "metadata": {},
          "execution_count": 36
        }
      ]
    },
    {
      "cell_type": "code",
      "source": [
        "df3.StreetName.unique()"
      ],
      "metadata": {
        "colab": {
          "base_uri": "https://localhost:8080/"
        },
        "id": "S-T-T3e6ggjg",
        "outputId": "a96ee963-1ba8-48b5-9363-3f09de7bc012"
      },
      "execution_count": null,
      "outputs": [
        {
          "output_type": "execute_result",
          "data": {
            "text/plain": [
              "array(['Geary', 'Pacific', 'Market', ..., 'Chain Of Lakes', 'Unknown',\n",
              "       'Ignacio'], dtype=object)"
            ]
          },
          "metadata": {},
          "execution_count": 37
        }
      ]
    },
    {
      "cell_type": "code",
      "source": [
        "lst = []\n",
        "for name in df3.StreetName.unique():\n",
        "    cnts = list(df3[df3.StreetName == name][target].value_counts())\n",
        "    #print(cnts)\n",
        "    if len(cnts) == 1:\n",
        "        if df3[df3.StreetName == name][target].unique()[0] == 0:\n",
        "            lst.append((name, 0, cnts[0], 0))\n",
        "        else:\n",
        "            lst.append((name, 9999999, 0, cnts[0]))\n",
        "    elif len(cnts) == 0: \n",
        "        lst.append((name, -1, 0, 0))\n",
        "    else:    \n",
        "        lst.append((name, cnts[1]/cnts[0], cnts[0], cnts[1]))"
      ],
      "metadata": {
        "id": "P2YkktFhpKtC"
      },
      "execution_count": null,
      "outputs": []
    },
    {
      "cell_type": "code",
      "source": [
        "lst.sort(key=(lambda x: x[1]), reverse=True)\n",
        "lst"
      ],
      "metadata": {
        "id": "pSCHrv2mq7C4"
      },
      "execution_count": null,
      "outputs": []
    },
    {
      "cell_type": "code",
      "source": [
        "lst[-50:-1]"
      ],
      "metadata": {
        "id": "Jf_nyyHusVS0"
      },
      "execution_count": null,
      "outputs": []
    },
    {
      "cell_type": "code",
      "source": [
        "df3[df3[target] == 0].info()"
      ],
      "metadata": {
        "id": "akQ3iWKdq7FZ"
      },
      "execution_count": null,
      "outputs": []
    },
    {
      "cell_type": "code",
      "source": [
        "df3[df3[target] == 1].info()"
      ],
      "metadata": {
        "id": "WpLRlJAkq7Hi"
      },
      "execution_count": null,
      "outputs": []
    },
    {
      "cell_type": "code",
      "source": [
        "df3.drop_duplicates()"
      ],
      "metadata": {
        "id": "jdv4MW-6q7Jt"
      },
      "execution_count": null,
      "outputs": []
    },
    {
      "cell_type": "code",
      "source": [
        "df_without_nan_cols = df3.drop(['FirstConstructionDocumentDate'], axis=1)"
      ],
      "metadata": {
        "id": "xkOd5vJhq7MI"
      },
      "execution_count": null,
      "outputs": []
    },
    {
      "cell_type": "code",
      "source": [
        "df_without_nan_cols.dropna(inplace=True)"
      ],
      "metadata": {
        "id": "8VDePW9U1Ls7"
      },
      "execution_count": null,
      "outputs": []
    },
    {
      "cell_type": "code",
      "source": [
        "df_without_nan_cols.head()"
      ],
      "metadata": {
        "colab": {
          "base_uri": "https://localhost:8080/",
          "height": 339
        },
        "id": "qIu31xFd1aKR",
        "outputId": "c0beeade-206f-4558-bd92-c02b085ccc19"
      },
      "execution_count": null,
      "outputs": [
        {
          "output_type": "execute_result",
          "data": {
            "text/plain": [
              "      PermitTypeDefinition PermitCreationDate Block  Lot  StreetNumber  \\\n",
              "3   otc alterations permit         11/07/2016  0156  011          1230   \n",
              "5   otc alterations permit         06/14/2017  4105  009           800   \n",
              "6   otc alterations permit         06/30/2017  1739  020          1291   \n",
              "24  otc alterations permit         08/08/2017  0542  039             1   \n",
              "25  otc alterations permit         08/16/2017  1824  006          1435   \n",
              "\n",
              "   StreetName                               Description  CurrentStatus  \\\n",
              "3     Pacific  repair dryrot & stucco at front of bldg.              0   \n",
              "5     Indiana                                 evac maps              0   \n",
              "6        11th                                re-roofing              0   \n",
              "24   Charlton                                re-roofing              0   \n",
              "25       29th                                re-roofing              0   \n",
              "\n",
              "   CurrentStatusDate   FiledDate  IssuedDate  NumberofExistingStories  \\\n",
              "3         07/24/2017  11/07/2016  07/18/2017                      2.0   \n",
              "5         07/06/2017  06/14/2017  07/06/2017                      5.0   \n",
              "6         07/12/2017  06/30/2017  06/30/2017                      3.0   \n",
              "24        08/08/2017  08/08/2017  08/08/2017                      4.0   \n",
              "25        08/16/2017  08/16/2017  08/16/2017                      2.0   \n",
              "\n",
              "    NumberofProposedStories  EstimatedCost  RevisedCost        ExistingUse  \\\n",
              "3                       2.0         2000.0       2000.0  1 family dwelling   \n",
              "5                       5.0         4000.0       4000.0         apartments   \n",
              "6                       3.0        12000.0      12000.0         apartments   \n",
              "24                      4.0        64650.0      64650.0         apartments   \n",
              "25                      2.0         7000.0       7000.0  1 family dwelling   \n",
              "\n",
              "    ExistingUnits        ProposedUse  ProposedUnits  Plansets  \\\n",
              "3             1.0  1 family dwelling            1.0       2.0   \n",
              "5           326.0         apartments          326.0       2.0   \n",
              "6             5.0         apartments            5.0       0.0   \n",
              "24            9.0         apartments            9.0       0.0   \n",
              "25            1.0  1 family dwelling            1.0       0.0   \n",
              "\n",
              "   ExistingConstructionTypeDescription ProposedConstructionTypeDescription  \\\n",
              "3                       wood frame (5)                      wood frame (5)   \n",
              "5                        constr type 1                       constr type 1   \n",
              "6                       wood frame (5)                      wood frame (5)   \n",
              "24                      wood frame (5)                      wood frame (5)   \n",
              "25                      wood frame (5)                      wood frame (5)   \n",
              "\n",
              "    SupervisorDistrict Neighborhoods-AnalysisBoundaries  StreetNumber_int  \n",
              "3                  3.0                         Nob Hill              1230  \n",
              "5                 10.0                     Potrero Hill               800  \n",
              "6                  5.0                     Inner Sunset              1291  \n",
              "24                 2.0                           Marina                 1  \n",
              "25                 4.0                  Sunset/Parkside              1435  "
            ],
            "text/html": [
              "\n",
              "  <div id=\"df-895485d1-ad75-46ab-bcf6-4bb6006db61f\">\n",
              "    <div class=\"colab-df-container\">\n",
              "      <div>\n",
              "<style scoped>\n",
              "    .dataframe tbody tr th:only-of-type {\n",
              "        vertical-align: middle;\n",
              "    }\n",
              "\n",
              "    .dataframe tbody tr th {\n",
              "        vertical-align: top;\n",
              "    }\n",
              "\n",
              "    .dataframe thead th {\n",
              "        text-align: right;\n",
              "    }\n",
              "</style>\n",
              "<table border=\"1\" class=\"dataframe\">\n",
              "  <thead>\n",
              "    <tr style=\"text-align: right;\">\n",
              "      <th></th>\n",
              "      <th>PermitTypeDefinition</th>\n",
              "      <th>PermitCreationDate</th>\n",
              "      <th>Block</th>\n",
              "      <th>Lot</th>\n",
              "      <th>StreetNumber</th>\n",
              "      <th>StreetName</th>\n",
              "      <th>Description</th>\n",
              "      <th>CurrentStatus</th>\n",
              "      <th>CurrentStatusDate</th>\n",
              "      <th>FiledDate</th>\n",
              "      <th>IssuedDate</th>\n",
              "      <th>NumberofExistingStories</th>\n",
              "      <th>NumberofProposedStories</th>\n",
              "      <th>EstimatedCost</th>\n",
              "      <th>RevisedCost</th>\n",
              "      <th>ExistingUse</th>\n",
              "      <th>ExistingUnits</th>\n",
              "      <th>ProposedUse</th>\n",
              "      <th>ProposedUnits</th>\n",
              "      <th>Plansets</th>\n",
              "      <th>ExistingConstructionTypeDescription</th>\n",
              "      <th>ProposedConstructionTypeDescription</th>\n",
              "      <th>SupervisorDistrict</th>\n",
              "      <th>Neighborhoods-AnalysisBoundaries</th>\n",
              "      <th>StreetNumber_int</th>\n",
              "    </tr>\n",
              "  </thead>\n",
              "  <tbody>\n",
              "    <tr>\n",
              "      <th>3</th>\n",
              "      <td>otc alterations permit</td>\n",
              "      <td>11/07/2016</td>\n",
              "      <td>0156</td>\n",
              "      <td>011</td>\n",
              "      <td>1230</td>\n",
              "      <td>Pacific</td>\n",
              "      <td>repair dryrot &amp; stucco at front of bldg.</td>\n",
              "      <td>0</td>\n",
              "      <td>07/24/2017</td>\n",
              "      <td>11/07/2016</td>\n",
              "      <td>07/18/2017</td>\n",
              "      <td>2.0</td>\n",
              "      <td>2.0</td>\n",
              "      <td>2000.0</td>\n",
              "      <td>2000.0</td>\n",
              "      <td>1 family dwelling</td>\n",
              "      <td>1.0</td>\n",
              "      <td>1 family dwelling</td>\n",
              "      <td>1.0</td>\n",
              "      <td>2.0</td>\n",
              "      <td>wood frame (5)</td>\n",
              "      <td>wood frame (5)</td>\n",
              "      <td>3.0</td>\n",
              "      <td>Nob Hill</td>\n",
              "      <td>1230</td>\n",
              "    </tr>\n",
              "    <tr>\n",
              "      <th>5</th>\n",
              "      <td>otc alterations permit</td>\n",
              "      <td>06/14/2017</td>\n",
              "      <td>4105</td>\n",
              "      <td>009</td>\n",
              "      <td>800</td>\n",
              "      <td>Indiana</td>\n",
              "      <td>evac maps</td>\n",
              "      <td>0</td>\n",
              "      <td>07/06/2017</td>\n",
              "      <td>06/14/2017</td>\n",
              "      <td>07/06/2017</td>\n",
              "      <td>5.0</td>\n",
              "      <td>5.0</td>\n",
              "      <td>4000.0</td>\n",
              "      <td>4000.0</td>\n",
              "      <td>apartments</td>\n",
              "      <td>326.0</td>\n",
              "      <td>apartments</td>\n",
              "      <td>326.0</td>\n",
              "      <td>2.0</td>\n",
              "      <td>constr type 1</td>\n",
              "      <td>constr type 1</td>\n",
              "      <td>10.0</td>\n",
              "      <td>Potrero Hill</td>\n",
              "      <td>800</td>\n",
              "    </tr>\n",
              "    <tr>\n",
              "      <th>6</th>\n",
              "      <td>otc alterations permit</td>\n",
              "      <td>06/30/2017</td>\n",
              "      <td>1739</td>\n",
              "      <td>020</td>\n",
              "      <td>1291</td>\n",
              "      <td>11th</td>\n",
              "      <td>re-roofing</td>\n",
              "      <td>0</td>\n",
              "      <td>07/12/2017</td>\n",
              "      <td>06/30/2017</td>\n",
              "      <td>06/30/2017</td>\n",
              "      <td>3.0</td>\n",
              "      <td>3.0</td>\n",
              "      <td>12000.0</td>\n",
              "      <td>12000.0</td>\n",
              "      <td>apartments</td>\n",
              "      <td>5.0</td>\n",
              "      <td>apartments</td>\n",
              "      <td>5.0</td>\n",
              "      <td>0.0</td>\n",
              "      <td>wood frame (5)</td>\n",
              "      <td>wood frame (5)</td>\n",
              "      <td>5.0</td>\n",
              "      <td>Inner Sunset</td>\n",
              "      <td>1291</td>\n",
              "    </tr>\n",
              "    <tr>\n",
              "      <th>24</th>\n",
              "      <td>otc alterations permit</td>\n",
              "      <td>08/08/2017</td>\n",
              "      <td>0542</td>\n",
              "      <td>039</td>\n",
              "      <td>1</td>\n",
              "      <td>Charlton</td>\n",
              "      <td>re-roofing</td>\n",
              "      <td>0</td>\n",
              "      <td>08/08/2017</td>\n",
              "      <td>08/08/2017</td>\n",
              "      <td>08/08/2017</td>\n",
              "      <td>4.0</td>\n",
              "      <td>4.0</td>\n",
              "      <td>64650.0</td>\n",
              "      <td>64650.0</td>\n",
              "      <td>apartments</td>\n",
              "      <td>9.0</td>\n",
              "      <td>apartments</td>\n",
              "      <td>9.0</td>\n",
              "      <td>0.0</td>\n",
              "      <td>wood frame (5)</td>\n",
              "      <td>wood frame (5)</td>\n",
              "      <td>2.0</td>\n",
              "      <td>Marina</td>\n",
              "      <td>1</td>\n",
              "    </tr>\n",
              "    <tr>\n",
              "      <th>25</th>\n",
              "      <td>otc alterations permit</td>\n",
              "      <td>08/16/2017</td>\n",
              "      <td>1824</td>\n",
              "      <td>006</td>\n",
              "      <td>1435</td>\n",
              "      <td>29th</td>\n",
              "      <td>re-roofing</td>\n",
              "      <td>0</td>\n",
              "      <td>08/16/2017</td>\n",
              "      <td>08/16/2017</td>\n",
              "      <td>08/16/2017</td>\n",
              "      <td>2.0</td>\n",
              "      <td>2.0</td>\n",
              "      <td>7000.0</td>\n",
              "      <td>7000.0</td>\n",
              "      <td>1 family dwelling</td>\n",
              "      <td>1.0</td>\n",
              "      <td>1 family dwelling</td>\n",
              "      <td>1.0</td>\n",
              "      <td>0.0</td>\n",
              "      <td>wood frame (5)</td>\n",
              "      <td>wood frame (5)</td>\n",
              "      <td>4.0</td>\n",
              "      <td>Sunset/Parkside</td>\n",
              "      <td>1435</td>\n",
              "    </tr>\n",
              "  </tbody>\n",
              "</table>\n",
              "</div>\n",
              "      <button class=\"colab-df-convert\" onclick=\"convertToInteractive('df-895485d1-ad75-46ab-bcf6-4bb6006db61f')\"\n",
              "              title=\"Convert this dataframe to an interactive table.\"\n",
              "              style=\"display:none;\">\n",
              "        \n",
              "  <svg xmlns=\"http://www.w3.org/2000/svg\" height=\"24px\"viewBox=\"0 0 24 24\"\n",
              "       width=\"24px\">\n",
              "    <path d=\"M0 0h24v24H0V0z\" fill=\"none\"/>\n",
              "    <path d=\"M18.56 5.44l.94 2.06.94-2.06 2.06-.94-2.06-.94-.94-2.06-.94 2.06-2.06.94zm-11 1L8.5 8.5l.94-2.06 2.06-.94-2.06-.94L8.5 2.5l-.94 2.06-2.06.94zm10 10l.94 2.06.94-2.06 2.06-.94-2.06-.94-.94-2.06-.94 2.06-2.06.94z\"/><path d=\"M17.41 7.96l-1.37-1.37c-.4-.4-.92-.59-1.43-.59-.52 0-1.04.2-1.43.59L10.3 9.45l-7.72 7.72c-.78.78-.78 2.05 0 2.83L4 21.41c.39.39.9.59 1.41.59.51 0 1.02-.2 1.41-.59l7.78-7.78 2.81-2.81c.8-.78.8-2.07 0-2.86zM5.41 20L4 18.59l7.72-7.72 1.47 1.35L5.41 20z\"/>\n",
              "  </svg>\n",
              "      </button>\n",
              "      \n",
              "  <style>\n",
              "    .colab-df-container {\n",
              "      display:flex;\n",
              "      flex-wrap:wrap;\n",
              "      gap: 12px;\n",
              "    }\n",
              "\n",
              "    .colab-df-convert {\n",
              "      background-color: #E8F0FE;\n",
              "      border: none;\n",
              "      border-radius: 50%;\n",
              "      cursor: pointer;\n",
              "      display: none;\n",
              "      fill: #1967D2;\n",
              "      height: 32px;\n",
              "      padding: 0 0 0 0;\n",
              "      width: 32px;\n",
              "    }\n",
              "\n",
              "    .colab-df-convert:hover {\n",
              "      background-color: #E2EBFA;\n",
              "      box-shadow: 0px 1px 2px rgba(60, 64, 67, 0.3), 0px 1px 3px 1px rgba(60, 64, 67, 0.15);\n",
              "      fill: #174EA6;\n",
              "    }\n",
              "\n",
              "    [theme=dark] .colab-df-convert {\n",
              "      background-color: #3B4455;\n",
              "      fill: #D2E3FC;\n",
              "    }\n",
              "\n",
              "    [theme=dark] .colab-df-convert:hover {\n",
              "      background-color: #434B5C;\n",
              "      box-shadow: 0px 1px 3px 1px rgba(0, 0, 0, 0.15);\n",
              "      filter: drop-shadow(0px 1px 2px rgba(0, 0, 0, 0.3));\n",
              "      fill: #FFFFFF;\n",
              "    }\n",
              "  </style>\n",
              "\n",
              "      <script>\n",
              "        const buttonEl =\n",
              "          document.querySelector('#df-895485d1-ad75-46ab-bcf6-4bb6006db61f button.colab-df-convert');\n",
              "        buttonEl.style.display =\n",
              "          google.colab.kernel.accessAllowed ? 'block' : 'none';\n",
              "\n",
              "        async function convertToInteractive(key) {\n",
              "          const element = document.querySelector('#df-895485d1-ad75-46ab-bcf6-4bb6006db61f');\n",
              "          const dataTable =\n",
              "            await google.colab.kernel.invokeFunction('convertToInteractive',\n",
              "                                                     [key], {});\n",
              "          if (!dataTable) return;\n",
              "\n",
              "          const docLinkHtml = 'Like what you see? Visit the ' +\n",
              "            '<a target=\"_blank\" href=https://colab.research.google.com/notebooks/data_table.ipynb>data table notebook</a>'\n",
              "            + ' to learn more about interactive tables.';\n",
              "          element.innerHTML = '';\n",
              "          dataTable['output_type'] = 'display_data';\n",
              "          await google.colab.output.renderOutput(dataTable, element);\n",
              "          const docLink = document.createElement('div');\n",
              "          docLink.innerHTML = docLinkHtml;\n",
              "          element.appendChild(docLink);\n",
              "        }\n",
              "      </script>\n",
              "    </div>\n",
              "  </div>\n",
              "  "
            ]
          },
          "metadata": {},
          "execution_count": 55
        }
      ]
    },
    {
      "cell_type": "code",
      "source": [],
      "metadata": {
        "id": "KB0lpj6o1aMh"
      },
      "execution_count": null,
      "outputs": []
    },
    {
      "cell_type": "code",
      "source": [],
      "metadata": {
        "id": "-DKX2QEP1aPU"
      },
      "execution_count": null,
      "outputs": []
    }
  ]
}