{
  "nbformat": 4,
  "nbformat_minor": 0,
  "metadata": {
    "colab": {
      "provenance": [],
      "mount_file_id": "1T6ykIrR6TiuZpHew4HrGSPJxjA4Ntm2Q",
      "authorship_tag": "ABX9TyM8lk8Zh6fPksHyxd8Ry6VJ",
      "include_colab_link": true
    },
    "kernelspec": {
      "name": "python3",
      "display_name": "Python 3"
    },
    "language_info": {
      "name": "python"
    }
  },
  "cells": [
    {
      "cell_type": "markdown",
      "metadata": {
        "id": "view-in-github",
        "colab_type": "text"
      },
      "source": [
        "<a href=\"https://colab.research.google.com/github/Suraba03/ml_san_francisco_permits/blob/main/san_fancisco.ipynb\" target=\"_parent\"><img src=\"https://colab.research.google.com/assets/colab-badge.svg\" alt=\"Open In Colab\"/></a>"
      ]
    },
    {
      "cell_type": "markdown",
      "source": [
        "# import data and first glance"
      ],
      "metadata": {
        "id": "qBdpYYYieqjK"
      }
    },
    {
      "cell_type": "code",
      "execution_count": null,
      "metadata": {
        "id": "81vxBG1lc7fT"
      },
      "outputs": [],
      "source": [
        "import pandas as pd\n",
        "import numpy as np\n",
        "from matplotlib import pyplot as plt"
      ]
    },
    {
      "cell_type": "code",
      "source": [
        "df = pd.read_csv('/content/drive/MyDrive/Colab Notebooks/san_francisco/Building_Permits.csv')"
      ],
      "metadata": {
        "colab": {
          "base_uri": "https://localhost:8080/"
        },
        "id": "EehQzGkxezXj",
        "outputId": "cbc4e1f3-83cb-4e2b-a7e2-4fe6c31ebd9a"
      },
      "execution_count": null,
      "outputs": [
        {
          "output_type": "stream",
          "name": "stderr",
          "text": [
            "<ipython-input-12-5a9255161ba3>:1: DtypeWarning: Columns (22,32) have mixed types. Specify dtype option on import or set low_memory=False.\n",
            "  df = pd.read_csv('/content/drive/MyDrive/Colab Notebooks/san_francisco/Building_Permits.csv')\n"
          ]
        }
      ]
    },
    {
      "cell_type": "code",
      "source": [
        "pd.set_option('display.max_columns', None)"
      ],
      "metadata": {
        "id": "cVeeNp-Uh7v8"
      },
      "execution_count": null,
      "outputs": []
    },
    {
      "cell_type": "code",
      "source": [
        "df.head(2)"
      ],
      "metadata": {
        "colab": {
          "base_uri": "https://localhost:8080/",
          "height": 315
        },
        "id": "xtFwJOqrhJsb",
        "outputId": "b7f4729d-07fa-494e-d876-f685176ddf23"
      },
      "execution_count": null,
      "outputs": [
        {
          "output_type": "execute_result",
          "data": {
            "text/plain": [
              "   PermitNumber  PermitType PermitTypeDefinition PermitCreationDate Block  \\\n",
              "0  201505065519           4         sign - erect         05/06/2015  0326   \n",
              "1  201604195146           4         sign - erect         04/19/2016  0306   \n",
              "\n",
              "   Lot  StreetNumber StreetNumberSuffix StreetName StreetSuffix  Unit  \\\n",
              "0  023           140                NaN      Ellis           St   NaN   \n",
              "1  007           440                NaN      Geary           St   0.0   \n",
              "\n",
              "  UnitSuffix                                        Description CurrentStatus  \\\n",
              "0        NaN  ground fl facade: to erect illuminated, electr...       expired   \n",
              "1        NaN            remove (e) awning and associated signs.        issued   \n",
              "\n",
              "  CurrentStatusDate   FiledDate  IssuedDate CompletedDate  \\\n",
              "0        12/21/2017  05/06/2015  11/09/2015           NaN   \n",
              "1        08/03/2017  04/19/2016  08/03/2017           NaN   \n",
              "\n",
              "  FirstConstructionDocumentDate StructuralNotification  \\\n",
              "0                    11/09/2015                    NaN   \n",
              "1                    08/03/2017                    NaN   \n",
              "\n",
              "   NumberofExistingStories  NumberofProposedStories  \\\n",
              "0                      6.0                      NaN   \n",
              "1                      7.0                      NaN   \n",
              "\n",
              "  VoluntarySoft-StoryRetrofit FireOnlyPermit PermitExpirationDate  \\\n",
              "0                         NaN            NaN           11/03/2016   \n",
              "1                         NaN            NaN           12/03/2017   \n",
              "\n",
              "   EstimatedCost  RevisedCost          ExistingUse  ExistingUnits ProposedUse  \\\n",
              "0         4000.0       4000.0  tourist hotel/motel          143.0         NaN   \n",
              "1            1.0        500.0  tourist hotel/motel            NaN         NaN   \n",
              "\n",
              "   ProposedUnits  Plansets TIDFCompliance  ExistingConstructionType  \\\n",
              "0            NaN       2.0            NaN                       3.0   \n",
              "1            NaN       2.0            NaN                       3.0   \n",
              "\n",
              "  ExistingConstructionTypeDescription  ProposedConstructionType  \\\n",
              "0                       constr type 3                       NaN   \n",
              "1                       constr type 3                       NaN   \n",
              "\n",
              "  ProposedConstructionTypeDescription SitePermit  SupervisorDistrict  \\\n",
              "0                                 NaN        NaN                 3.0   \n",
              "1                                 NaN        NaN                 3.0   \n",
              "\n",
              "  Neighborhoods-AnalysisBoundaries  Zipcode  \\\n",
              "0                       Tenderloin  94102.0   \n",
              "1                       Tenderloin  94102.0   \n",
              "\n",
              "                                    Location       RecordID  \n",
              "0  (37.785719256680785, -122.40852313194863)  1380611233945  \n",
              "1   (37.78733980600732, -122.41063199757738)  1420164406718  "
            ],
            "text/html": [
              "\n",
              "  <div id=\"df-17090b53-4639-4c3f-9534-6b20328a8c65\">\n",
              "    <div class=\"colab-df-container\">\n",
              "      <div>\n",
              "<style scoped>\n",
              "    .dataframe tbody tr th:only-of-type {\n",
              "        vertical-align: middle;\n",
              "    }\n",
              "\n",
              "    .dataframe tbody tr th {\n",
              "        vertical-align: top;\n",
              "    }\n",
              "\n",
              "    .dataframe thead th {\n",
              "        text-align: right;\n",
              "    }\n",
              "</style>\n",
              "<table border=\"1\" class=\"dataframe\">\n",
              "  <thead>\n",
              "    <tr style=\"text-align: right;\">\n",
              "      <th></th>\n",
              "      <th>PermitNumber</th>\n",
              "      <th>PermitType</th>\n",
              "      <th>PermitTypeDefinition</th>\n",
              "      <th>PermitCreationDate</th>\n",
              "      <th>Block</th>\n",
              "      <th>Lot</th>\n",
              "      <th>StreetNumber</th>\n",
              "      <th>StreetNumberSuffix</th>\n",
              "      <th>StreetName</th>\n",
              "      <th>StreetSuffix</th>\n",
              "      <th>Unit</th>\n",
              "      <th>UnitSuffix</th>\n",
              "      <th>Description</th>\n",
              "      <th>CurrentStatus</th>\n",
              "      <th>CurrentStatusDate</th>\n",
              "      <th>FiledDate</th>\n",
              "      <th>IssuedDate</th>\n",
              "      <th>CompletedDate</th>\n",
              "      <th>FirstConstructionDocumentDate</th>\n",
              "      <th>StructuralNotification</th>\n",
              "      <th>NumberofExistingStories</th>\n",
              "      <th>NumberofProposedStories</th>\n",
              "      <th>VoluntarySoft-StoryRetrofit</th>\n",
              "      <th>FireOnlyPermit</th>\n",
              "      <th>PermitExpirationDate</th>\n",
              "      <th>EstimatedCost</th>\n",
              "      <th>RevisedCost</th>\n",
              "      <th>ExistingUse</th>\n",
              "      <th>ExistingUnits</th>\n",
              "      <th>ProposedUse</th>\n",
              "      <th>ProposedUnits</th>\n",
              "      <th>Plansets</th>\n",
              "      <th>TIDFCompliance</th>\n",
              "      <th>ExistingConstructionType</th>\n",
              "      <th>ExistingConstructionTypeDescription</th>\n",
              "      <th>ProposedConstructionType</th>\n",
              "      <th>ProposedConstructionTypeDescription</th>\n",
              "      <th>SitePermit</th>\n",
              "      <th>SupervisorDistrict</th>\n",
              "      <th>Neighborhoods-AnalysisBoundaries</th>\n",
              "      <th>Zipcode</th>\n",
              "      <th>Location</th>\n",
              "      <th>RecordID</th>\n",
              "    </tr>\n",
              "  </thead>\n",
              "  <tbody>\n",
              "    <tr>\n",
              "      <th>0</th>\n",
              "      <td>201505065519</td>\n",
              "      <td>4</td>\n",
              "      <td>sign - erect</td>\n",
              "      <td>05/06/2015</td>\n",
              "      <td>0326</td>\n",
              "      <td>023</td>\n",
              "      <td>140</td>\n",
              "      <td>NaN</td>\n",
              "      <td>Ellis</td>\n",
              "      <td>St</td>\n",
              "      <td>NaN</td>\n",
              "      <td>NaN</td>\n",
              "      <td>ground fl facade: to erect illuminated, electr...</td>\n",
              "      <td>expired</td>\n",
              "      <td>12/21/2017</td>\n",
              "      <td>05/06/2015</td>\n",
              "      <td>11/09/2015</td>\n",
              "      <td>NaN</td>\n",
              "      <td>11/09/2015</td>\n",
              "      <td>NaN</td>\n",
              "      <td>6.0</td>\n",
              "      <td>NaN</td>\n",
              "      <td>NaN</td>\n",
              "      <td>NaN</td>\n",
              "      <td>11/03/2016</td>\n",
              "      <td>4000.0</td>\n",
              "      <td>4000.0</td>\n",
              "      <td>tourist hotel/motel</td>\n",
              "      <td>143.0</td>\n",
              "      <td>NaN</td>\n",
              "      <td>NaN</td>\n",
              "      <td>2.0</td>\n",
              "      <td>NaN</td>\n",
              "      <td>3.0</td>\n",
              "      <td>constr type 3</td>\n",
              "      <td>NaN</td>\n",
              "      <td>NaN</td>\n",
              "      <td>NaN</td>\n",
              "      <td>3.0</td>\n",
              "      <td>Tenderloin</td>\n",
              "      <td>94102.0</td>\n",
              "      <td>(37.785719256680785, -122.40852313194863)</td>\n",
              "      <td>1380611233945</td>\n",
              "    </tr>\n",
              "    <tr>\n",
              "      <th>1</th>\n",
              "      <td>201604195146</td>\n",
              "      <td>4</td>\n",
              "      <td>sign - erect</td>\n",
              "      <td>04/19/2016</td>\n",
              "      <td>0306</td>\n",
              "      <td>007</td>\n",
              "      <td>440</td>\n",
              "      <td>NaN</td>\n",
              "      <td>Geary</td>\n",
              "      <td>St</td>\n",
              "      <td>0.0</td>\n",
              "      <td>NaN</td>\n",
              "      <td>remove (e) awning and associated signs.</td>\n",
              "      <td>issued</td>\n",
              "      <td>08/03/2017</td>\n",
              "      <td>04/19/2016</td>\n",
              "      <td>08/03/2017</td>\n",
              "      <td>NaN</td>\n",
              "      <td>08/03/2017</td>\n",
              "      <td>NaN</td>\n",
              "      <td>7.0</td>\n",
              "      <td>NaN</td>\n",
              "      <td>NaN</td>\n",
              "      <td>NaN</td>\n",
              "      <td>12/03/2017</td>\n",
              "      <td>1.0</td>\n",
              "      <td>500.0</td>\n",
              "      <td>tourist hotel/motel</td>\n",
              "      <td>NaN</td>\n",
              "      <td>NaN</td>\n",
              "      <td>NaN</td>\n",
              "      <td>2.0</td>\n",
              "      <td>NaN</td>\n",
              "      <td>3.0</td>\n",
              "      <td>constr type 3</td>\n",
              "      <td>NaN</td>\n",
              "      <td>NaN</td>\n",
              "      <td>NaN</td>\n",
              "      <td>3.0</td>\n",
              "      <td>Tenderloin</td>\n",
              "      <td>94102.0</td>\n",
              "      <td>(37.78733980600732, -122.41063199757738)</td>\n",
              "      <td>1420164406718</td>\n",
              "    </tr>\n",
              "  </tbody>\n",
              "</table>\n",
              "</div>\n",
              "      <button class=\"colab-df-convert\" onclick=\"convertToInteractive('df-17090b53-4639-4c3f-9534-6b20328a8c65')\"\n",
              "              title=\"Convert this dataframe to an interactive table.\"\n",
              "              style=\"display:none;\">\n",
              "        \n",
              "  <svg xmlns=\"http://www.w3.org/2000/svg\" height=\"24px\"viewBox=\"0 0 24 24\"\n",
              "       width=\"24px\">\n",
              "    <path d=\"M0 0h24v24H0V0z\" fill=\"none\"/>\n",
              "    <path d=\"M18.56 5.44l.94 2.06.94-2.06 2.06-.94-2.06-.94-.94-2.06-.94 2.06-2.06.94zm-11 1L8.5 8.5l.94-2.06 2.06-.94-2.06-.94L8.5 2.5l-.94 2.06-2.06.94zm10 10l.94 2.06.94-2.06 2.06-.94-2.06-.94-.94-2.06-.94 2.06-2.06.94z\"/><path d=\"M17.41 7.96l-1.37-1.37c-.4-.4-.92-.59-1.43-.59-.52 0-1.04.2-1.43.59L10.3 9.45l-7.72 7.72c-.78.78-.78 2.05 0 2.83L4 21.41c.39.39.9.59 1.41.59.51 0 1.02-.2 1.41-.59l7.78-7.78 2.81-2.81c.8-.78.8-2.07 0-2.86zM5.41 20L4 18.59l7.72-7.72 1.47 1.35L5.41 20z\"/>\n",
              "  </svg>\n",
              "      </button>\n",
              "      \n",
              "  <style>\n",
              "    .colab-df-container {\n",
              "      display:flex;\n",
              "      flex-wrap:wrap;\n",
              "      gap: 12px;\n",
              "    }\n",
              "\n",
              "    .colab-df-convert {\n",
              "      background-color: #E8F0FE;\n",
              "      border: none;\n",
              "      border-radius: 50%;\n",
              "      cursor: pointer;\n",
              "      display: none;\n",
              "      fill: #1967D2;\n",
              "      height: 32px;\n",
              "      padding: 0 0 0 0;\n",
              "      width: 32px;\n",
              "    }\n",
              "\n",
              "    .colab-df-convert:hover {\n",
              "      background-color: #E2EBFA;\n",
              "      box-shadow: 0px 1px 2px rgba(60, 64, 67, 0.3), 0px 1px 3px 1px rgba(60, 64, 67, 0.15);\n",
              "      fill: #174EA6;\n",
              "    }\n",
              "\n",
              "    [theme=dark] .colab-df-convert {\n",
              "      background-color: #3B4455;\n",
              "      fill: #D2E3FC;\n",
              "    }\n",
              "\n",
              "    [theme=dark] .colab-df-convert:hover {\n",
              "      background-color: #434B5C;\n",
              "      box-shadow: 0px 1px 3px 1px rgba(0, 0, 0, 0.15);\n",
              "      filter: drop-shadow(0px 1px 2px rgba(0, 0, 0, 0.3));\n",
              "      fill: #FFFFFF;\n",
              "    }\n",
              "  </style>\n",
              "\n",
              "      <script>\n",
              "        const buttonEl =\n",
              "          document.querySelector('#df-17090b53-4639-4c3f-9534-6b20328a8c65 button.colab-df-convert');\n",
              "        buttonEl.style.display =\n",
              "          google.colab.kernel.accessAllowed ? 'block' : 'none';\n",
              "\n",
              "        async function convertToInteractive(key) {\n",
              "          const element = document.querySelector('#df-17090b53-4639-4c3f-9534-6b20328a8c65');\n",
              "          const dataTable =\n",
              "            await google.colab.kernel.invokeFunction('convertToInteractive',\n",
              "                                                     [key], {});\n",
              "          if (!dataTable) return;\n",
              "\n",
              "          const docLinkHtml = 'Like what you see? Visit the ' +\n",
              "            '<a target=\"_blank\" href=https://colab.research.google.com/notebooks/data_table.ipynb>data table notebook</a>'\n",
              "            + ' to learn more about interactive tables.';\n",
              "          element.innerHTML = '';\n",
              "          dataTable['output_type'] = 'display_data';\n",
              "          await google.colab.output.renderOutput(dataTable, element);\n",
              "          const docLink = document.createElement('div');\n",
              "          docLink.innerHTML = docLinkHtml;\n",
              "          element.appendChild(docLink);\n",
              "        }\n",
              "      </script>\n",
              "    </div>\n",
              "  </div>\n",
              "  "
            ]
          },
          "metadata": {},
          "execution_count": 34
        }
      ]
    },
    {
      "cell_type": "code",
      "source": [
        "df.shape"
      ],
      "metadata": {
        "colab": {
          "base_uri": "https://localhost:8080/"
        },
        "id": "s8VomZvEnquS",
        "outputId": "ad885ec8-b9a9-4572-922d-fa57bb140e1d"
      },
      "execution_count": null,
      "outputs": [
        {
          "output_type": "execute_result",
          "data": {
            "text/plain": [
              "(198900, 43)"
            ]
          },
          "metadata": {},
          "execution_count": 33
        }
      ]
    },
    {
      "cell_type": "code",
      "source": [
        "df.PermitType.unique()"
      ],
      "metadata": {
        "colab": {
          "base_uri": "https://localhost:8080/"
        },
        "id": "Ti-FY1-Iqfgp",
        "outputId": "4ccd7941-767b-4e8a-a8bf-cd9505ccaaf0"
      },
      "execution_count": 46,
      "outputs": [
        {
          "output_type": "execute_result",
          "data": {
            "text/plain": [
              "array([4, 3, 8, 6, 7, 1, 5, 2])"
            ]
          },
          "metadata": {},
          "execution_count": 46
        }
      ]
    },
    {
      "cell_type": "code",
      "source": [
        "df.PermitTypeDefinition.unique()"
      ],
      "metadata": {
        "colab": {
          "base_uri": "https://localhost:8080/"
        },
        "id": "aJbNDAygqsx8",
        "outputId": "74cffc0b-3b08-48cc-994f-422ce1677ec1"
      },
      "execution_count": 47,
      "outputs": [
        {
          "output_type": "execute_result",
          "data": {
            "text/plain": [
              "array(['sign - erect', 'additions alterations or repairs',\n",
              "       'otc alterations permit', 'demolitions', 'wall or painted sign',\n",
              "       'new construction', 'grade or quarry or fill or excavate',\n",
              "       'new construction wood frame'], dtype=object)"
            ]
          },
          "metadata": {},
          "execution_count": 47
        }
      ]
    },
    {
      "cell_type": "code",
      "source": [
        "df[[\"PermitType\", \"PermitTypeDefinition\"]].drop_duplicates(keep='first')"
      ],
      "metadata": {
        "colab": {
          "base_uri": "https://localhost:8080/",
          "height": 300
        },
        "id": "qtknSqx5q1uj",
        "outputId": "da8530c8-93f4-475f-d8d6-400d398b18af"
      },
      "execution_count": 51,
      "outputs": [
        {
          "output_type": "execute_result",
          "data": {
            "text/plain": [
              "     PermitType                 PermitTypeDefinition\n",
              "0             4                         sign - erect\n",
              "2             3     additions alterations or repairs\n",
              "3             8               otc alterations permit\n",
              "4             6                          demolitions\n",
              "55            7                 wall or painted sign\n",
              "83            1                     new construction\n",
              "152           5  grade or quarry or fill or excavate\n",
              "164           2          new construction wood frame"
            ],
            "text/html": [
              "\n",
              "  <div id=\"df-93dbf9da-6168-426f-bfe3-cfcef10ebcb4\">\n",
              "    <div class=\"colab-df-container\">\n",
              "      <div>\n",
              "<style scoped>\n",
              "    .dataframe tbody tr th:only-of-type {\n",
              "        vertical-align: middle;\n",
              "    }\n",
              "\n",
              "    .dataframe tbody tr th {\n",
              "        vertical-align: top;\n",
              "    }\n",
              "\n",
              "    .dataframe thead th {\n",
              "        text-align: right;\n",
              "    }\n",
              "</style>\n",
              "<table border=\"1\" class=\"dataframe\">\n",
              "  <thead>\n",
              "    <tr style=\"text-align: right;\">\n",
              "      <th></th>\n",
              "      <th>PermitType</th>\n",
              "      <th>PermitTypeDefinition</th>\n",
              "    </tr>\n",
              "  </thead>\n",
              "  <tbody>\n",
              "    <tr>\n",
              "      <th>0</th>\n",
              "      <td>4</td>\n",
              "      <td>sign - erect</td>\n",
              "    </tr>\n",
              "    <tr>\n",
              "      <th>2</th>\n",
              "      <td>3</td>\n",
              "      <td>additions alterations or repairs</td>\n",
              "    </tr>\n",
              "    <tr>\n",
              "      <th>3</th>\n",
              "      <td>8</td>\n",
              "      <td>otc alterations permit</td>\n",
              "    </tr>\n",
              "    <tr>\n",
              "      <th>4</th>\n",
              "      <td>6</td>\n",
              "      <td>demolitions</td>\n",
              "    </tr>\n",
              "    <tr>\n",
              "      <th>55</th>\n",
              "      <td>7</td>\n",
              "      <td>wall or painted sign</td>\n",
              "    </tr>\n",
              "    <tr>\n",
              "      <th>83</th>\n",
              "      <td>1</td>\n",
              "      <td>new construction</td>\n",
              "    </tr>\n",
              "    <tr>\n",
              "      <th>152</th>\n",
              "      <td>5</td>\n",
              "      <td>grade or quarry or fill or excavate</td>\n",
              "    </tr>\n",
              "    <tr>\n",
              "      <th>164</th>\n",
              "      <td>2</td>\n",
              "      <td>new construction wood frame</td>\n",
              "    </tr>\n",
              "  </tbody>\n",
              "</table>\n",
              "</div>\n",
              "      <button class=\"colab-df-convert\" onclick=\"convertToInteractive('df-93dbf9da-6168-426f-bfe3-cfcef10ebcb4')\"\n",
              "              title=\"Convert this dataframe to an interactive table.\"\n",
              "              style=\"display:none;\">\n",
              "        \n",
              "  <svg xmlns=\"http://www.w3.org/2000/svg\" height=\"24px\"viewBox=\"0 0 24 24\"\n",
              "       width=\"24px\">\n",
              "    <path d=\"M0 0h24v24H0V0z\" fill=\"none\"/>\n",
              "    <path d=\"M18.56 5.44l.94 2.06.94-2.06 2.06-.94-2.06-.94-.94-2.06-.94 2.06-2.06.94zm-11 1L8.5 8.5l.94-2.06 2.06-.94-2.06-.94L8.5 2.5l-.94 2.06-2.06.94zm10 10l.94 2.06.94-2.06 2.06-.94-2.06-.94-.94-2.06-.94 2.06-2.06.94z\"/><path d=\"M17.41 7.96l-1.37-1.37c-.4-.4-.92-.59-1.43-.59-.52 0-1.04.2-1.43.59L10.3 9.45l-7.72 7.72c-.78.78-.78 2.05 0 2.83L4 21.41c.39.39.9.59 1.41.59.51 0 1.02-.2 1.41-.59l7.78-7.78 2.81-2.81c.8-.78.8-2.07 0-2.86zM5.41 20L4 18.59l7.72-7.72 1.47 1.35L5.41 20z\"/>\n",
              "  </svg>\n",
              "      </button>\n",
              "      \n",
              "  <style>\n",
              "    .colab-df-container {\n",
              "      display:flex;\n",
              "      flex-wrap:wrap;\n",
              "      gap: 12px;\n",
              "    }\n",
              "\n",
              "    .colab-df-convert {\n",
              "      background-color: #E8F0FE;\n",
              "      border: none;\n",
              "      border-radius: 50%;\n",
              "      cursor: pointer;\n",
              "      display: none;\n",
              "      fill: #1967D2;\n",
              "      height: 32px;\n",
              "      padding: 0 0 0 0;\n",
              "      width: 32px;\n",
              "    }\n",
              "\n",
              "    .colab-df-convert:hover {\n",
              "      background-color: #E2EBFA;\n",
              "      box-shadow: 0px 1px 2px rgba(60, 64, 67, 0.3), 0px 1px 3px 1px rgba(60, 64, 67, 0.15);\n",
              "      fill: #174EA6;\n",
              "    }\n",
              "\n",
              "    [theme=dark] .colab-df-convert {\n",
              "      background-color: #3B4455;\n",
              "      fill: #D2E3FC;\n",
              "    }\n",
              "\n",
              "    [theme=dark] .colab-df-convert:hover {\n",
              "      background-color: #434B5C;\n",
              "      box-shadow: 0px 1px 3px 1px rgba(0, 0, 0, 0.15);\n",
              "      filter: drop-shadow(0px 1px 2px rgba(0, 0, 0, 0.3));\n",
              "      fill: #FFFFFF;\n",
              "    }\n",
              "  </style>\n",
              "\n",
              "      <script>\n",
              "        const buttonEl =\n",
              "          document.querySelector('#df-93dbf9da-6168-426f-bfe3-cfcef10ebcb4 button.colab-df-convert');\n",
              "        buttonEl.style.display =\n",
              "          google.colab.kernel.accessAllowed ? 'block' : 'none';\n",
              "\n",
              "        async function convertToInteractive(key) {\n",
              "          const element = document.querySelector('#df-93dbf9da-6168-426f-bfe3-cfcef10ebcb4');\n",
              "          const dataTable =\n",
              "            await google.colab.kernel.invokeFunction('convertToInteractive',\n",
              "                                                     [key], {});\n",
              "          if (!dataTable) return;\n",
              "\n",
              "          const docLinkHtml = 'Like what you see? Visit the ' +\n",
              "            '<a target=\"_blank\" href=https://colab.research.google.com/notebooks/data_table.ipynb>data table notebook</a>'\n",
              "            + ' to learn more about interactive tables.';\n",
              "          element.innerHTML = '';\n",
              "          dataTable['output_type'] = 'display_data';\n",
              "          await google.colab.output.renderOutput(dataTable, element);\n",
              "          const docLink = document.createElement('div');\n",
              "          docLink.innerHTML = docLinkHtml;\n",
              "          element.appendChild(docLink);\n",
              "        }\n",
              "      </script>\n",
              "    </div>\n",
              "  </div>\n",
              "  "
            ]
          },
          "metadata": {},
          "execution_count": 51
        }
      ]
    },
    {
      "cell_type": "markdown",
      "source": [
        "# preprocessing"
      ],
      "metadata": {
        "id": "OQiYDagenbl7"
      }
    },
    {
      "cell_type": "markdown",
      "source": [
        "let's remove white spaces from columns names"
      ],
      "metadata": {
        "id": "h5Hcd7VynOYY"
      }
    },
    {
      "cell_type": "code",
      "source": [
        "df = df.rename(lambda name: name.replace(\" \", \"\"), axis='columns')"
      ],
      "metadata": {
        "id": "4iLQ_I8um0Yn"
      },
      "execution_count": null,
      "outputs": []
    },
    {
      "cell_type": "code",
      "source": [
        "df.info()"
      ],
      "metadata": {
        "colab": {
          "base_uri": "https://localhost:8080/"
        },
        "id": "D1EKQtAdezat",
        "outputId": "16bc4dbd-d8b6-4ace-b2b2-18d2bd4f3c37"
      },
      "execution_count": null,
      "outputs": [
        {
          "output_type": "stream",
          "name": "stdout",
          "text": [
            "<class 'pandas.core.frame.DataFrame'>\n",
            "RangeIndex: 198900 entries, 0 to 198899\n",
            "Data columns (total 43 columns):\n",
            " #   Column                               Non-Null Count   Dtype  \n",
            "---  ------                               --------------   -----  \n",
            " 0   PermitNumber                         198900 non-null  object \n",
            " 1   PermitType                           198900 non-null  int64  \n",
            " 2   PermitTypeDefinition                 198900 non-null  object \n",
            " 3   PermitCreationDate                   198900 non-null  object \n",
            " 4   Block                                198900 non-null  object \n",
            " 5   Lot                                  198900 non-null  object \n",
            " 6   StreetNumber                         198900 non-null  int64  \n",
            " 7   StreetNumberSuffix                   2216 non-null    object \n",
            " 8   StreetName                           198900 non-null  object \n",
            " 9   StreetSuffix                         196132 non-null  object \n",
            " 10  Unit                                 29479 non-null   float64\n",
            " 11  UnitSuffix                           1961 non-null    object \n",
            " 12  Description                          198610 non-null  object \n",
            " 13  CurrentStatus                        198900 non-null  object \n",
            " 14  CurrentStatusDate                    198900 non-null  object \n",
            " 15  FiledDate                            198900 non-null  object \n",
            " 16  IssuedDate                           183960 non-null  object \n",
            " 17  CompletedDate                        97191 non-null   object \n",
            " 18  FirstConstructionDocumentDate        183954 non-null  object \n",
            " 19  StructuralNotification               6922 non-null    object \n",
            " 20  NumberofExistingStories              156116 non-null  float64\n",
            " 21  NumberofProposedStories              156032 non-null  float64\n",
            " 22  VoluntarySoft-StoryRetrofit          35 non-null      object \n",
            " 23  FireOnlyPermit                       18827 non-null   object \n",
            " 24  PermitExpirationDate                 147020 non-null  object \n",
            " 25  EstimatedCost                        160834 non-null  float64\n",
            " 26  RevisedCost                          192834 non-null  float64\n",
            " 27  ExistingUse                          157786 non-null  object \n",
            " 28  ExistingUnits                        147362 non-null  float64\n",
            " 29  ProposedUse                          156461 non-null  object \n",
            " 30  ProposedUnits                        147989 non-null  float64\n",
            " 31  Plansets                             161591 non-null  float64\n",
            " 32  TIDFCompliance                       2 non-null       object \n",
            " 33  ExistingConstructionType             155534 non-null  float64\n",
            " 34  ExistingConstructionTypeDescription  155534 non-null  object \n",
            " 35  ProposedConstructionType             155738 non-null  float64\n",
            " 36  ProposedConstructionTypeDescription  155738 non-null  object \n",
            " 37  SitePermit                           5359 non-null    object \n",
            " 38  SupervisorDistrict                   197183 non-null  float64\n",
            " 39  Neighborhoods-AnalysisBoundaries     197175 non-null  object \n",
            " 40  Zipcode                              197184 non-null  float64\n",
            " 41  Location                             197200 non-null  object \n",
            " 42  RecordID                             198900 non-null  int64  \n",
            "dtypes: float64(12), int64(3), object(28)\n",
            "memory usage: 65.3+ MB\n"
          ]
        }
      ]
    },
    {
      "cell_type": "markdown",
      "source": [
        "let's split features list on two: numerical and categorical"
      ],
      "metadata": {
        "id": "6O4ucyGmoUX1"
      }
    },
    {
      "cell_type": "code",
      "source": [
        "num_cols = [col for col in df.columns if \"int\" in str(df[col].dtype) or \"float\" in str(df[col].dtype)]\n",
        "cat_cols = [col for col in df.columns if \"object\" == str(df[col].dtype)]\n",
        "print(num_cols)\n",
        "print(cat_cols)"
      ],
      "metadata": {
        "id": "QG8ODFikezd2",
        "colab": {
          "base_uri": "https://localhost:8080/"
        },
        "outputId": "a7ac3db8-4541-402a-c8e3-b9c56a185828"
      },
      "execution_count": 42,
      "outputs": [
        {
          "output_type": "stream",
          "name": "stdout",
          "text": [
            "['PermitType', 'StreetNumber', 'Unit', 'NumberofExistingStories', 'NumberofProposedStories', 'EstimatedCost', 'RevisedCost', 'ExistingUnits', 'ProposedUnits', 'Plansets', 'ExistingConstructionType', 'ProposedConstructionType', 'SupervisorDistrict', 'Zipcode', 'RecordID']\n",
            "['PermitNumber', 'PermitTypeDefinition', 'PermitCreationDate', 'Block', 'Lot', 'StreetNumberSuffix', 'StreetName', 'StreetSuffix', 'UnitSuffix', 'Description', 'CurrentStatus', 'CurrentStatusDate', 'FiledDate', 'IssuedDate', 'CompletedDate', 'FirstConstructionDocumentDate', 'StructuralNotification', 'VoluntarySoft-StoryRetrofit', 'FireOnlyPermit', 'PermitExpirationDate', 'ExistingUse', 'ProposedUse', 'TIDFCompliance', 'ExistingConstructionTypeDescription', 'ProposedConstructionTypeDescription', 'SitePermit', 'Neighborhoods-AnalysisBoundaries', 'Location']\n"
          ]
        }
      ]
    },
    {
      "cell_type": "markdown",
      "source": [
        "just a sanity check"
      ],
      "metadata": {
        "id": "GOyCQzTVqTCl"
      }
    },
    {
      "cell_type": "code",
      "source": [
        "set(num_cols+cat_cols) == set(df.columns)"
      ],
      "metadata": {
        "colab": {
          "base_uri": "https://localhost:8080/"
        },
        "id": "_6WlvBtIqCiA",
        "outputId": "84308066-8985-4379-b810-527c19d1479b"
      },
      "execution_count": 45,
      "outputs": [
        {
          "output_type": "execute_result",
          "data": {
            "text/plain": [
              "True"
            ]
          },
          "metadata": {},
          "execution_count": 45
        }
      ]
    },
    {
      "cell_type": "markdown",
      "source": [
        "## deal with missing values"
      ],
      "metadata": {
        "id": "l8TbbCLUoDuK"
      }
    },
    {
      "cell_type": "code",
      "source": [
        "for i in df.columns:\n",
        "    print(i)"
      ],
      "metadata": {
        "id": "c1xb7hkqezgN",
        "colab": {
          "base_uri": "https://localhost:8080/"
        },
        "outputId": "9efd821c-73e8-4dba-97ce-c8303ab59d1f"
      },
      "execution_count": 40,
      "outputs": [
        {
          "output_type": "stream",
          "name": "stdout",
          "text": [
            "PermitNumber\n",
            "PermitType\n",
            "PermitTypeDefinition\n",
            "PermitCreationDate\n",
            "Block\n",
            "Lot\n",
            "StreetNumber\n",
            "StreetNumberSuffix\n",
            "StreetName\n",
            "StreetSuffix\n",
            "Unit\n",
            "UnitSuffix\n",
            "Description\n",
            "CurrentStatus\n",
            "CurrentStatusDate\n",
            "FiledDate\n",
            "IssuedDate\n",
            "CompletedDate\n",
            "FirstConstructionDocumentDate\n",
            "StructuralNotification\n",
            "NumberofExistingStories\n",
            "NumberofProposedStories\n",
            "VoluntarySoft-StoryRetrofit\n",
            "FireOnlyPermit\n",
            "PermitExpirationDate\n",
            "EstimatedCost\n",
            "RevisedCost\n",
            "ExistingUse\n",
            "ExistingUnits\n",
            "ProposedUse\n",
            "ProposedUnits\n",
            "Plansets\n",
            "TIDFCompliance\n",
            "ExistingConstructionType\n",
            "ExistingConstructionTypeDescription\n",
            "ProposedConstructionType\n",
            "ProposedConstructionTypeDescription\n",
            "SitePermit\n",
            "SupervisorDistrict\n",
            "Neighborhoods-AnalysisBoundaries\n",
            "Zipcode\n",
            "Location\n",
            "RecordID\n"
          ]
        }
      ]
    },
    {
      "cell_type": "code",
      "source": [],
      "metadata": {
        "id": "HtTlV9Mzezij"
      },
      "execution_count": null,
      "outputs": []
    }
  ]
}